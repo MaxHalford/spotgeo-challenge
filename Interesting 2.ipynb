{
 "cells": [
  {
   "cell_type": "markdown",
   "metadata": {},
   "source": [
    "# Finding interesting pixels"
   ]
  },
  {
   "cell_type": "code",
   "execution_count": 1,
   "metadata": {},
   "outputs": [],
   "source": [
    "import json\n",
    "import os\n",
    "import pathlib\n",
    "import numpy as np\n",
    "import pandas as pd\n",
    "from PIL import Image\n",
    "from scipy import ndimage\n",
    "from scipy import optimize\n",
    "from scipy.spatial import distance\n",
    "from skimage import measure\n",
    "import tqdm"
   ]
  },
  {
   "cell_type": "markdown",
   "metadata": {},
   "source": [
    "First we calculate the median value of each pixel's surrounding region."
   ]
  },
  {
   "cell_type": "code",
   "execution_count": 36,
   "metadata": {},
   "outputs": [
    {
     "name": "stderr",
     "output_type": "stream",
     "text": [
      "100%|██████████| 1281/1281 [59:45<00:00,  2.80s/it] \n",
      "100%|██████████| 5120/5120 [4:44:29<00:00,  3.33s/it]  \n"
     ]
    }
   ],
   "source": [
    "for part in ['train', 'test']:\n",
    "    \n",
    "    for sequence in tqdm.tqdm(list(pathlib.Path(f'data/spotGEO/{part}').glob('*')), position=0):\n",
    "        os.makedirs(f'data/medians/{part}/{sequence.name}', exist_ok=True)\n",
    "    \n",
    "        for frame in sequence.glob('*.png'):\n",
    "            \n",
    "            img = Image.open(frame)\n",
    "            pixels = np.asarray(img)\n",
    "            img.close()\n",
    "            med = ndimage.median_filter(pixels, size=(16, 12))\n",
    "            np.save(f'data/medians/{part}/{sequence.name}/{frame.stem}.npy', med)"
   ]
  },
  {
   "cell_type": "markdown",
   "metadata": {},
   "source": [
    "Now we determine which pixels are brighter than their surroundings."
   ]
  },
  {
   "cell_type": "code",
   "execution_count": 4,
   "metadata": {
    "tags": []
   },
   "outputs": [
    {
     "output_type": "stream",
     "name": "stderr",
     "text": "100%|██████████| 1281/1281 [01:19<00:00, 16.12it/s]\n100%|██████████| 5120/5120 [06:15<00:00, 13.62it/s]\n"
    }
   ],
   "source": [
    "regions = {}\n",
    "\n",
    "for part in ['train', 'test']:\n",
    "    regions[part] = {}\n",
    "    \n",
    "    for sequence_path in tqdm.tqdm(list(pathlib.Path(f'data/spotGEO/{part}').glob('*')), position=0):\n",
    "        if sequence_path.name == '.DS_Store': continue\n",
    "        sequence = int(sequence_path.name)\n",
    "        regions[part][sequence] = {}\n",
    "            \n",
    "        for frame_path in sequence_path.glob('*.png'):\n",
    "            frame = int(frame_path.stem)\n",
    "            \n",
    "            # Access the necessary data\n",
    "            img = Image.open(frame_path)\n",
    "            pixels = np.asarray(img)\n",
    "            img.close()\n",
    "            med = np.load(f'data/medians/{part}/{sequence}/{frame}.npy')\n",
    "            \n",
    "            # Determine which pixels are brighter than their surroundings\n",
    "            interesting = pixels > med + 7\n",
    "            \n",
    "            # Label each pixel\n",
    "            labels = measure.label(interesting)\n",
    "            \n",
    "            # Group identically labeled pixels into regions\n",
    "            regions[part][sequence][frame] = measure.regionprops(label_image=labels, intensity_image=pixels)"
   ]
  },
  {
   "cell_type": "markdown",
   "metadata": {},
   "source": [
    "Let's now load the provided annotations."
   ]
  },
  {
   "cell_type": "code",
   "execution_count": 5,
   "metadata": {},
   "outputs": [
    {
     "output_type": "execute_result",
     "data": {
      "text/plain": "                            r    c\nsequence frame satellite          \n1        1     1          237  502\n               2          222  490\n               3          129  141\n         2     1          214  530\n               2          199  518",
      "text/html": "<div>\n<style scoped>\n    .dataframe tbody tr th:only-of-type {\n        vertical-align: middle;\n    }\n\n    .dataframe tbody tr th {\n        vertical-align: top;\n    }\n\n    .dataframe thead th {\n        text-align: right;\n    }\n</style>\n<table border=\"1\" class=\"dataframe\">\n  <thead>\n    <tr style=\"text-align: right;\">\n      <th></th>\n      <th></th>\n      <th></th>\n      <th>r</th>\n      <th>c</th>\n    </tr>\n    <tr>\n      <th>sequence</th>\n      <th>frame</th>\n      <th>satellite</th>\n      <th></th>\n      <th></th>\n    </tr>\n  </thead>\n  <tbody>\n    <tr>\n      <th rowspan=\"5\" valign=\"top\">1</th>\n      <th rowspan=\"3\" valign=\"top\">1</th>\n      <th>1</th>\n      <td>237</td>\n      <td>502</td>\n    </tr>\n    <tr>\n      <th>2</th>\n      <td>222</td>\n      <td>490</td>\n    </tr>\n    <tr>\n      <th>3</th>\n      <td>129</td>\n      <td>141</td>\n    </tr>\n    <tr>\n      <th rowspan=\"2\" valign=\"top\">2</th>\n      <th>1</th>\n      <td>214</td>\n      <td>530</td>\n    </tr>\n    <tr>\n      <th>2</th>\n      <td>199</td>\n      <td>518</td>\n    </tr>\n  </tbody>\n</table>\n</div>"
     },
     "metadata": {},
     "execution_count": 5
    }
   ],
   "source": [
    "satellites = []\n",
    "\n",
    "with open('data/spotGEO/train_anno.json') as f:\n",
    "    for ann in json.load(f):\n",
    "        for i, coords in enumerate(ann['object_coords']):\n",
    "            satellites.append({\n",
    "                'sequence': ann['sequence_id'],\n",
    "                'frame': ann['frame'],\n",
    "                'satellite': i + 1,\n",
    "                'r': int(coords[1] + .5),\n",
    "                'c': int(coords[0] + .5),\n",
    "            })\n",
    "    \n",
    "satellites = pd.DataFrame(satellites)\n",
    "satellites = satellites.set_index(['sequence', 'frame', 'satellite'])\n",
    "satellites.head()"
   ]
  },
  {
   "cell_type": "markdown",
   "metadata": {},
   "source": [
    "Let's find interesting pixels in the training set."
   ]
  },
  {
   "cell_type": "code",
   "execution_count": 17,
   "metadata": {
    "tags": []
   },
   "outputs": [
    {
     "output_type": "stream",
     "name": "stderr",
     "text": "100%|██████████| 1280/1280 [05:12<00:00,  4.10it/s]\n\n- Recall: 83.88%\n- Number of samples: 2,059,856\n"
    }
   ],
   "source": [
    "import collections\n",
    "\n",
    "interesting = collections.defaultdict(list)\n",
    "\n",
    "perf = []\n",
    "part = 'train'\n",
    "\n",
    "def region_features(r):\n",
    "    return {\n",
    "        'area': r.area,\n",
    "        'extent': r.extent,\n",
    "        'perimeter': r.perimeter,\n",
    "        'diameter': r.equivalent_diameter,\n",
    "        'major_over_minor': r.major_axis_length / (r.minor_axis_length + 1)\n",
    "    }\n",
    "\n",
    "for sequence in tqdm.tqdm(regions[part], position=0):\n",
    "    for frame in regions[part][sequence]:\n",
    "\n",
    "        try:\n",
    "            sats = satellites.loc[sequence, frame]\n",
    "        except KeyError:\n",
    "            continue\n",
    "            \n",
    "        img = Image.open(f'data/spotGEO/{part}/{sequence}/{frame}.png')\n",
    "        pixels = np.asarray(img)\n",
    "        img.close()\n",
    "        \n",
    "        rs = regions[part][sequence][frame]\n",
    "        centers = np.asarray([\n",
    "            r.coords[np.take(pixels, np.ravel_multi_index(r.coords.T, pixels.shape)).argmax()]\n",
    "            #np.array(region.weighted_centroid).round().astype(int)\n",
    "            #np.array(region.centroid).round().astype(int)\n",
    "            for r in rs\n",
    "        ])\n",
    "        \n",
    "        # Compute the distance between each satellite and each interesting location,\n",
    "        # thus forming a bipartite graph\n",
    "        distances = distance.cdist(sats, centers, metric='chebyshev')\n",
    "        \n",
    "        # Guess which locations correspond to which satellites\n",
    "        row_ind, col_ind = optimize.linear_sum_assignment(distances)\n",
    "        \n",
    "        # Each satellite is assigned, but some of them may be too distant to be likely\n",
    "        likely = distances[row_ind, col_ind] <= 2\n",
    "        \n",
    "        labels = np.full(len(centers), False, dtype=bool)\n",
    "        labels[col_ind[likely]] = True\n",
    "        \n",
    "        perf.append({\n",
    "            'sequence': sequence,\n",
    "            'frame': frame,\n",
    "            'n_sats': len(sats),\n",
    "            'n_interesting': len(centers),\n",
    "            'n_assigned': likely.sum(),\n",
    "        })\n",
    "        \n",
    "        for center, label, region in zip(centers, labels, rs):\n",
    "            interesting['part'].append(part)\n",
    "            interesting['sequence'].append(sequence)\n",
    "            interesting['frame'].append(frame)\n",
    "            interesting['r'].append(center[0])\n",
    "            interesting['c'].append(center[1])\n",
    "            interesting['is_satellite'].append(label)\n",
    "            for k, v in region_features(region).items():\n",
    "                interesting[k].append(v)\n",
    "\n",
    "perf = pd.DataFrame(perf)\n",
    "print()\n",
    "print(f'- Recall: {perf.n_assigned.sum() / perf.n_sats.sum():.2%}')\n",
    "print(f'- Number of samples: {perf.n_interesting.sum():,}')"
   ]
  },
  {
   "cell_type": "markdown",
   "metadata": {},
   "source": [
    "- Recall: 83.88%\n",
    "- Number of samples: 2,059,856"
   ]
  },
  {
   "cell_type": "markdown",
   "metadata": {},
   "source": [
    "Now let's do it on the test data."
   ]
  },
  {
   "cell_type": "code",
   "execution_count": 18,
   "metadata": {
    "tags": []
   },
   "outputs": [
    {
     "output_type": "stream",
     "name": "stderr",
     "text": "100%|██████████| 5120/5120 [25:49<00:00,  3.30it/s]\n"
    }
   ],
   "source": [
    "part = 'test'\n",
    "\n",
    "for sequence in tqdm.tqdm(regions[part], position=0):\n",
    "    for frame in regions[part][sequence]:\n",
    "            \n",
    "        img = Image.open(f'data/spotGEO/{part}/{sequence}/{frame}.png')\n",
    "        pixels = np.asarray(img)\n",
    "        img.close()\n",
    "        \n",
    "        rs = regions[part][sequence][frame]\n",
    "        centers = np.asarray([\n",
    "            r.coords[np.take(pixels, np.ravel_multi_index(r.coords.T, pixels.shape)).argmax()]\n",
    "            for r in rs\n",
    "        ])\n",
    "        \n",
    "        for center, region in zip(centers, rs):\n",
    "            interesting['part'].append(part)\n",
    "            interesting['sequence'].append(sequence)\n",
    "            interesting['frame'].append(frame)\n",
    "            interesting['is_satellite'].append(None)\n",
    "            interesting['r'].append(center[0])\n",
    "            interesting['c'].append(center[1])\n",
    "            for k, v in region_features(region).items():\n",
    "                interesting[k].append(v)"
   ]
  },
  {
   "cell_type": "code",
   "execution_count": 19,
   "metadata": {},
   "outputs": [],
   "source": [
    "interesting_df = pd.DataFrame(interesting)\n",
    "interesting_df.head()"
   ]
  },
  {
   "cell_type": "code",
   "execution_count": 21,
   "metadata": {},
   "outputs": [],
   "source": [
    "interesting_df.to_pickle('data/interesting.pkl')"
   ]
  }
 ],
 "metadata": {
  "kernelspec": {
   "display_name": "Python 3",
   "language": "python",
   "name": "python3"
  },
  "language_info": {
   "codemirror_mode": {
    "name": "ipython",
    "version": 3
   },
   "file_extension": ".py",
   "mimetype": "text/x-python",
   "name": "python",
   "nbconvert_exporter": "python",
   "pygments_lexer": "ipython3",
   "version": "3.7.4"
  },
  "toc-showtags": false
 },
 "nbformat": 4,
 "nbformat_minor": 4
}
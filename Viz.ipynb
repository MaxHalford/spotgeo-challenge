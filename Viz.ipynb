{
 "cells": [
  {
   "cell_type": "code",
   "execution_count": null,
   "metadata": {},
   "outputs": [],
   "source": [
    "import matplotlib.pyplot as plt\n",
    "\n",
    "%matplotlib inline\n",
    "%config InlineBackend.figure_format = 'retina'"
   ]
  },
  {
   "cell_type": "markdown",
   "metadata": {},
   "source": [
    "Annotations."
   ]
  },
  {
   "cell_type": "code",
   "execution_count": null,
   "metadata": {},
   "outputs": [],
   "source": [
    "import json\n",
    "import pandas as pd\n",
    "\n",
    "sats = []\n",
    "\n",
    "with open('data/spotGEO/train_anno.json') as f:\n",
    "    for ann in json.load(f):\n",
    "        for i, coords in enumerate(ann['object_coords']):\n",
    "            sats.append({\n",
    "                'sequence': ann['sequence_id'],\n",
    "                'frame': ann['frame'],\n",
    "                'satellite': i + 1,\n",
    "                'x': coords[0],\n",
    "                'y': coords[1],\n",
    "            })\n",
    "    \n",
    "sats = pd.DataFrame(sats)\n",
    "sats = sats.set_index(['sequence', 'frame', 'satellite'])\n",
    "sats.head()"
   ]
  },
  {
   "cell_type": "markdown",
   "metadata": {},
   "source": [
    "Train images."
   ]
  },
  {
   "cell_type": "code",
   "execution_count": null,
   "metadata": {},
   "outputs": [],
   "source": [
    "import pathlib\n",
    "from PIL import Image\n",
    "import numpy as np\n",
    "\n",
    "train = {\n",
    "    (int(seq.name), int(frame.stem)): np.asarray(Image.open(frame)).astype(np.float32)\n",
    "    for seq in pathlib.Path('data/spotGEO/train').glob('*')\n",
    "    for frame in seq.glob('*.png')\n",
    "}"
   ]
  },
  {
   "cell_type": "markdown",
   "metadata": {},
   "source": [
    "Sequence visualisation."
   ]
  },
  {
   "cell_type": "code",
   "execution_count": null,
   "metadata": {},
   "outputs": [],
   "source": [
    "import matplotlib.pyplot as plt\n",
    "import matplotlib.patches as patches\n",
    "from mpl_toolkits.axes_grid1 import ImageGrid\n",
    "\n",
    "def viz_sequence(seq, df):\n",
    "    \n",
    "    # Make one image for each frame\n",
    "    fig = plt.figure(figsize=(15, 10 * 5)) # 5 frames in each sequence\n",
    "    grid = ImageGrid(\n",
    "        fig, 111,  \n",
    "        nrows_ncols=(5, 1),\n",
    "        axes_pad=.4,\n",
    "    )\n",
    "\n",
    "    frames = df.loc[seq]\n",
    "    trajectories = []\n",
    "\n",
    "    for frame, sats in frames.groupby('frame'):\n",
    "    \n",
    "        # Sky\n",
    "        ax = grid[frame - 1]\n",
    "        ax.imshow(train[seq, frame], origin='lower')\n",
    "        ax.set_title(f'Sequence #{seq}, frame #{frame}')\n",
    "\n",
    "        # Current positions\n",
    "        for _, sat in sats.iterrows():\n",
    "            ax.scatter(sat['x'], sat['y'], s=100, facecolors='none', edgecolors='red', linewidths=2)\n",
    "            \n",
    "        # Old positions\n",
    "        for old_sats in trajectories:\n",
    "            for _, sat in old_sats.iterrows():\n",
    "                ax.scatter(sat['x'], sat['y'], s=100, facecolors='none', edgecolors='yellow', linewidths=2)\n",
    "        trajectories.append(sats)\n",
    "        \n",
    "        ax.set_xlim(-.5, 639.5)\n",
    "        ax.set_ylim(479.5, -.5)\n",
    "    \n",
    "    return fig\n",
    "\n",
    "fig = viz_sequence(19, df=sats)"
   ]
  }
 ],
 "metadata": {
  "kernelspec": {
   "display_name": "Python 3",
   "language": "python",
   "name": "python3"
  },
  "language_info": {
   "codemirror_mode": {
    "name": "ipython",
    "version": 3
   },
   "file_extension": ".py",
   "mimetype": "text/x-python",
   "name": "python",
   "nbconvert_exporter": "python",
   "pygments_lexer": "ipython3",
   "version": "3.7.4"
  }
 },
 "nbformat": 4,
 "nbformat_minor": 4
}

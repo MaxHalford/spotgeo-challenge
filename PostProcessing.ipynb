{
 "cells": [
  {
   "cell_type": "markdown",
   "metadata": {},
   "source": [
    "# Post-processing"
   ]
  },
  {
   "cell_type": "code",
   "execution_count": 1,
   "metadata": {},
   "outputs": [],
   "source": [
    "%matplotlib inline"
   ]
  },
  {
   "cell_type": "markdown",
   "metadata": {},
   "source": [
    "We'll load the ground truths, but just for visualisation purposes."
   ]
  },
  {
   "cell_type": "code",
   "execution_count": 2,
   "metadata": {},
   "outputs": [
    {
     "data": {
      "text/html": [
       "<div>\n",
       "<style scoped>\n",
       "    .dataframe tbody tr th:only-of-type {\n",
       "        vertical-align: middle;\n",
       "    }\n",
       "\n",
       "    .dataframe tbody tr th {\n",
       "        vertical-align: top;\n",
       "    }\n",
       "\n",
       "    .dataframe thead th {\n",
       "        text-align: right;\n",
       "    }\n",
       "</style>\n",
       "<table border=\"1\" class=\"dataframe\">\n",
       "  <thead>\n",
       "    <tr style=\"text-align: right;\">\n",
       "      <th></th>\n",
       "      <th></th>\n",
       "      <th></th>\n",
       "      <th>r</th>\n",
       "      <th>c</th>\n",
       "    </tr>\n",
       "    <tr>\n",
       "      <th>sequence</th>\n",
       "      <th>frame</th>\n",
       "      <th>satellite</th>\n",
       "      <th></th>\n",
       "      <th></th>\n",
       "    </tr>\n",
       "  </thead>\n",
       "  <tbody>\n",
       "    <tr>\n",
       "      <th rowspan=\"5\" valign=\"top\">1</th>\n",
       "      <th rowspan=\"3\" valign=\"top\">1</th>\n",
       "      <th>1</th>\n",
       "      <td>237</td>\n",
       "      <td>502</td>\n",
       "    </tr>\n",
       "    <tr>\n",
       "      <th>2</th>\n",
       "      <td>222</td>\n",
       "      <td>490</td>\n",
       "    </tr>\n",
       "    <tr>\n",
       "      <th>3</th>\n",
       "      <td>129</td>\n",
       "      <td>141</td>\n",
       "    </tr>\n",
       "    <tr>\n",
       "      <th rowspan=\"2\" valign=\"top\">2</th>\n",
       "      <th>1</th>\n",
       "      <td>214</td>\n",
       "      <td>530</td>\n",
       "    </tr>\n",
       "    <tr>\n",
       "      <th>2</th>\n",
       "      <td>199</td>\n",
       "      <td>518</td>\n",
       "    </tr>\n",
       "  </tbody>\n",
       "</table>\n",
       "</div>"
      ],
      "text/plain": [
       "                            r    c\n",
       "sequence frame satellite          \n",
       "1        1     1          237  502\n",
       "               2          222  490\n",
       "               3          129  141\n",
       "         2     1          214  530\n",
       "               2          199  518"
      ]
     },
     "execution_count": 2,
     "metadata": {},
     "output_type": "execute_result"
    }
   ],
   "source": [
    "import json\n",
    "import pandas as pd\n",
    "\n",
    "sats = []\n",
    "\n",
    "with open('data/spotGEO/train_anno.json') as f:\n",
    "    for ann in json.load(f):\n",
    "        for i, coords in enumerate(ann['object_coords']):\n",
    "            sats.append({\n",
    "                'sequence': ann['sequence_id'],\n",
    "                'frame': ann['frame'],\n",
    "                'satellite': i + 1,\n",
    "                'r': int(coords[1] + .5),\n",
    "                'c': int(coords[0] + .5),\n",
    "            })\n",
    "    \n",
    "sats = pd.DataFrame(sats)\n",
    "sats = sats.set_index(['sequence', 'frame', 'satellite'])\n",
    "sats.head()"
   ]
  },
  {
   "cell_type": "markdown",
   "metadata": {},
   "source": [
    "Now we load the out-of-fold predictions, which were produced in the [previous notebook](Solution.ipynb)."
   ]
  },
  {
   "cell_type": "code",
   "execution_count": 3,
   "metadata": {},
   "outputs": [
    {
     "data": {
      "text/html": [
       "<div>\n",
       "<style scoped>\n",
       "    .dataframe tbody tr th:only-of-type {\n",
       "        vertical-align: middle;\n",
       "    }\n",
       "\n",
       "    .dataframe tbody tr th {\n",
       "        vertical-align: top;\n",
       "    }\n",
       "\n",
       "    .dataframe thead th {\n",
       "        text-align: right;\n",
       "    }\n",
       "</style>\n",
       "<table border=\"1\" class=\"dataframe\">\n",
       "  <thead>\n",
       "    <tr style=\"text-align: right;\">\n",
       "      <th></th>\n",
       "      <th></th>\n",
       "      <th>r</th>\n",
       "      <th>c</th>\n",
       "    </tr>\n",
       "    <tr>\n",
       "      <th>sequence</th>\n",
       "      <th>frame</th>\n",
       "      <th></th>\n",
       "      <th></th>\n",
       "    </tr>\n",
       "  </thead>\n",
       "  <tbody>\n",
       "    <tr>\n",
       "      <th rowspan=\"5\" valign=\"top\">1</th>\n",
       "      <th>1</th>\n",
       "      <td>129.0</td>\n",
       "      <td>140.0</td>\n",
       "    </tr>\n",
       "    <tr>\n",
       "      <th>1</th>\n",
       "      <td>221.0</td>\n",
       "      <td>489.0</td>\n",
       "    </tr>\n",
       "    <tr>\n",
       "      <th>1</th>\n",
       "      <td>237.0</td>\n",
       "      <td>501.0</td>\n",
       "    </tr>\n",
       "    <tr>\n",
       "      <th>2</th>\n",
       "      <td>107.0</td>\n",
       "      <td>167.0</td>\n",
       "    </tr>\n",
       "    <tr>\n",
       "      <th>2</th>\n",
       "      <td>198.0</td>\n",
       "      <td>517.0</td>\n",
       "    </tr>\n",
       "  </tbody>\n",
       "</table>\n",
       "</div>"
      ],
      "text/plain": [
       "                    r      c\n",
       "sequence frame              \n",
       "1        1      129.0  140.0\n",
       "         1      221.0  489.0\n",
       "         1      237.0  501.0\n",
       "         2      107.0  167.0\n",
       "         2      198.0  517.0"
      ]
     },
     "execution_count": 3,
     "metadata": {},
     "output_type": "execute_result"
    }
   ],
   "source": [
    "with open('oof.json') as f:\n",
    "    oof = json.load(f)\n",
    "    \n",
    "oof = pd.DataFrame([\n",
    "    {\n",
    "        'sequence': frame['sequence_id'],\n",
    "        'frame': frame['frame'],\n",
    "        'r': y + .5,\n",
    "        'c': x + .5\n",
    "    }\n",
    "    for frame in oof\n",
    "    for x, y in frame['object_coords']\n",
    "])\n",
    "oof = oof.set_index(['sequence', 'frame'])\n",
    "oof.head()"
   ]
  },
  {
   "cell_type": "code",
   "execution_count": 4,
   "metadata": {},
   "outputs": [
    {
     "data": {
      "image/png": "[encoded data removed]",
      "text/plain": [
       "<Figure size 1008x648 with 1 Axes>"
      ]
     },
     "metadata": {
      "needs_background": "light"
     },
     "output_type": "display_data"
    }
   ],
   "source": [
    "import matplotlib.pyplot as plt\n",
    "\n",
    "fig, ax = plt.subplots(figsize=(14, 9))\n",
    "\n",
    "sequence = 1\n",
    "\n",
    "ax.set_xlim(0, 640)\n",
    "ax.set_ylim(480, 0)\n",
    "ax.grid()\n",
    "\n",
    "try:\n",
    "    for frame, (r, c) in oof.loc[sequence].iterrows():\n",
    "        ax.text(c - 6, r - 6, frame, color='red', fontsize=16)\n",
    "except KeyError:\n",
    "    pass\n",
    "  \n",
    "try:\n",
    "    for (frame, _), (r, c) in sats.loc[sequence].iterrows():\n",
    "        ax.scatter(c, r, color='green', alpha=.5)\n",
    "except KeyError:\n",
    "    pass"
   ]
  },
  {
   "cell_type": "code",
   "execution_count": 5,
   "metadata": {},
   "outputs": [],
   "source": [
    "from scipy import stats\n",
    "\n",
    "class Trajectory:\n",
    "    \n",
    "    def __init__(self, frames, r, c):\n",
    "        self.r_linreg = stats.linregress(x=frames, y=r)\n",
    "        self.c_linreg = stats.linregress(x=frames, y=c)\n",
    "        \n",
    "    @property\n",
    "    def good_fit(self):\n",
    "        return abs(self.r_linreg.rvalue) > .999 and abs(self.c_linreg.rvalue) > .999\n",
    "    \n",
    "    def get_path(self):\n",
    "        return [\n",
    "            [\n",
    "                self.r_linreg.slope * frame + self.r_linreg.intercept,\n",
    "                self.c_linreg.slope * frame + self.c_linreg.intercept,\n",
    "            ]\n",
    "            for frame in range(1, 6)\n",
    "        ]"
   ]
  },
  {
   "cell_type": "markdown",
   "metadata": {},
   "source": [
    "Let's look at the average distance between positions of a single satellite."
   ]
  },
  {
   "cell_type": "code",
   "execution_count": 6,
   "metadata": {},
   "outputs": [
    {
     "data": {
      "text/plain": [
       "mean    45.710591\n",
       "std      8.207040\n",
       "min     12.000000\n",
       "max     81.000000\n",
       "dtype: float64"
      ]
     },
     "execution_count": 6,
     "metadata": {},
     "output_type": "execute_result"
    }
   ],
   "source": [
    "counts = sats.groupby(['sequence']).size()\n",
    "single = counts[counts.eq(5)]\n",
    "sats.loc[single.index].groupby('sequence').apply(lambda g: g.diff()['r'].abs() + g.diff()['c'].abs()).agg(['mean', 'std', 'min', 'max'])"
   ]
  },
  {
   "cell_type": "code",
   "execution_count": 7,
   "metadata": {},
   "outputs": [],
   "source": [
    "import itertools\n",
    "\n",
    "def find_trajectory(frames):\n",
    "\n",
    "    # We first consider all the trajectories that are formed with 3, 4, or 5 points from different\n",
    "    # frame. We fit a line to every possible point combination. We stop if we find a \"good\" line.\n",
    "    # We can then remove the involved points and call this function once again.\n",
    "    for k in range(5, 2, -1):\n",
    "        for frame_combo in itertools.combinations(range(5), k):\n",
    "            for coord_combo in itertools.product(*[range(len(frames[f])) for f in frame_combo]):\n",
    "                r = [frames[i][j][0] for i, j in zip(frame_combo, coord_combo)]\n",
    "                c = [frames[i][j][1] for i, j in zip(frame_combo, coord_combo)]\n",
    "                traj = Trajectory(frames=[f + 1 for f in frame_combo], r=r, c=c)\n",
    "                if traj.good_fit:\n",
    "                    return frame_combo, coord_combo, traj\n",
    "        \n",
    "    # Now we look at pairs of points in adjacent frames. We assume that two point from different\n",
    "    # frames form a trajectory if their distance looks likely.\n",
    "    for i1 in range(4):\n",
    "        for i2 in range(i1 + 1, min(i1 + 3, 5)):\n",
    "            for j1, j2 in itertools.product(range(len(frames[i1])), range(len(frames[i2]))):\n",
    "                r1, c1 = frames[i1][j1]\n",
    "                r2, c2 = frames[i2][j2]\n",
    "                dist = abs(r1 - r2) + abs(c1 - c2)\n",
    "                if 18 * (i2 - i1) <= dist <= 70 * (i2 - i1):\n",
    "                    traj = Trajectory(frames=[i1 + 1, i2 + 1], r=[r1, r2], c=[c1, c2])\n",
    "                    return (i1, i2), (j1, j2), traj\n",
    "        \n",
    "    return None\n",
    "\n",
    "def expand_predictions(predictions):\n",
    "\n",
    "    trajectories = []\n",
    "              \n",
    "    frames = [[] for _ in range(5)]\n",
    "    for frame, (r, c) in predictions.iterrows():\n",
    "        frames[frame - 1].append([r, c])\n",
    "\n",
    "    while frames:\n",
    "\n",
    "        result = find_trajectory(frames)\n",
    "        if result is None:\n",
    "            break\n",
    "\n",
    "        frame_combo, coord_combo, traj = result\n",
    "        trajectories.append(traj)\n",
    "        for i, j in zip(frame_combo, coord_combo):\n",
    "            del frames[i][j]\n",
    "            \n",
    "    if not trajectories:\n",
    "        return pd.DataFrame()\n",
    "            \n",
    "    expansion = pd.concat([\n",
    "        pd.DataFrame(traj.get_path(), columns=['r', 'c'])\n",
    "        for traj in trajectories\n",
    "    ])\n",
    "    expansion.index.name = 'frame'\n",
    "    expansion.index += 1\n",
    "    \n",
    "    return expansion\n",
    "\n",
    "predictions = oof.loc[sequence]\n",
    "expansion = expand_predictions(predictions)"
   ]
  },
  {
   "cell_type": "code",
   "execution_count": 8,
   "metadata": {},
   "outputs": [
    {
     "data": {
      "image/png": "[encoded data removed]",
      "text/plain": [
       "<Figure size 1008x648 with 1 Axes>"
      ]
     },
     "metadata": {
      "needs_background": "light"
     },
     "output_type": "display_data"
    }
   ],
   "source": [
    "fig, ax = plt.subplots(figsize=(14, 9))\n",
    "\n",
    "ax.set_xlim(0, 640)\n",
    "ax.set_ylim(480, 0)\n",
    "ax.grid()\n",
    "\n",
    "for (frame, _), (r, c) in sats.loc[sequence].iterrows():\n",
    "    ax.scatter(c, r, color='green', alpha=.5)\n",
    "    \n",
    "for frame, (r, c) in expansion.iterrows():\n",
    "    ax.text(c - 6, r - 6, frame, color='red', fontsize=16)"
   ]
  },
  {
   "cell_type": "markdown",
   "metadata": {},
   "source": [
    "## Out-of-fold predictions"
   ]
  },
  {
   "cell_type": "code",
   "execution_count": 9,
   "metadata": {},
   "outputs": [
    {
     "name": "stderr",
     "output_type": "stream",
     "text": [
      "100%|██████████| 995/995 [00:40<00:00, 24.60it/s]\n"
     ]
    },
    {
     "data": {
      "text/html": [
       "<div>\n",
       "<style scoped>\n",
       "    .dataframe tbody tr th:only-of-type {\n",
       "        vertical-align: middle;\n",
       "    }\n",
       "\n",
       "    .dataframe tbody tr th {\n",
       "        vertical-align: top;\n",
       "    }\n",
       "\n",
       "    .dataframe thead th {\n",
       "        text-align: right;\n",
       "    }\n",
       "</style>\n",
       "<table border=\"1\" class=\"dataframe\">\n",
       "  <thead>\n",
       "    <tr style=\"text-align: right;\">\n",
       "      <th></th>\n",
       "      <th></th>\n",
       "      <th>r</th>\n",
       "      <th>c</th>\n",
       "    </tr>\n",
       "    <tr>\n",
       "      <th>sequence</th>\n",
       "      <th>frame</th>\n",
       "      <th></th>\n",
       "      <th></th>\n",
       "    </tr>\n",
       "  </thead>\n",
       "  <tbody>\n",
       "    <tr>\n",
       "      <th rowspan=\"5\" valign=\"top\">1</th>\n",
       "      <th>1</th>\n",
       "      <td>237.0</td>\n",
       "      <td>501.0</td>\n",
       "    </tr>\n",
       "    <tr>\n",
       "      <th>2</th>\n",
       "      <td>214.0</td>\n",
       "      <td>529.0</td>\n",
       "    </tr>\n",
       "    <tr>\n",
       "      <th>3</th>\n",
       "      <td>191.0</td>\n",
       "      <td>557.0</td>\n",
       "    </tr>\n",
       "    <tr>\n",
       "      <th>4</th>\n",
       "      <td>168.0</td>\n",
       "      <td>585.0</td>\n",
       "    </tr>\n",
       "    <tr>\n",
       "      <th>5</th>\n",
       "      <td>145.0</td>\n",
       "      <td>613.0</td>\n",
       "    </tr>\n",
       "  </tbody>\n",
       "</table>\n",
       "</div>"
      ],
      "text/plain": [
       "                    r      c\n",
       "sequence frame              \n",
       "1        1      237.0  501.0\n",
       "         2      214.0  529.0\n",
       "         3      191.0  557.0\n",
       "         4      168.0  585.0\n",
       "         5      145.0  613.0"
      ]
     },
     "execution_count": 9,
     "metadata": {},
     "output_type": "execute_result"
    }
   ],
   "source": [
    "import tqdm\n",
    "\n",
    "oof_pp = pd.concat([\n",
    "    expand_predictions(g.droplevel('sequence')).assign(sequence=sequence)\n",
    "    for sequence, g in tqdm.tqdm(oof.groupby('sequence'), position=0)\n",
    "])\n",
    "oof_pp.index.name = 'frame'\n",
    "oof_pp = oof_pp.reset_index().set_index(['sequence', 'frame'])\n",
    "oof_pp.head()"
   ]
  },
  {
   "cell_type": "code",
   "execution_count": 10,
   "metadata": {},
   "outputs": [
    {
     "data": {
      "text/plain": [
       "<Figure size 432x288 with 0 Axes>"
      ]
     },
     "metadata": {},
     "output_type": "display_data"
    }
   ],
   "source": [
    "%run toolbox.py"
   ]
  },
  {
   "cell_type": "code",
   "execution_count": 11,
   "metadata": {},
   "outputs": [
    {
     "name": "stderr",
     "output_type": "stream",
     "text": [
      "100%|██████████| 1280/1280 [00:02<00:00, 448.34it/s]\n"
     ]
    }
   ],
   "source": [
    "save_predictions(\n",
    "    predictions=oof_pp.assign(is_sat=True).set_index(['r', 'c'], append=True)['is_sat'].sort_index(),\n",
    "    path='oof_pp.json',\n",
    "    n_sequences=1280\n",
    ")"
   ]
  },
  {
   "cell_type": "code",
   "execution_count": 12,
   "metadata": {},
   "outputs": [
    {
     "name": "stdout",
     "output_type": "stream",
     "text": [
      "Score: 0.171077, (MSE: 24068.624683)\n"
     ]
    }
   ],
   "source": [
    "!python validation.py oof_pp.json data/spotGEO/train_anno.json"
   ]
  },
  {
   "cell_type": "markdown",
   "metadata": {},
   "source": [
    "Score: 0.165742, (MSE: 23231.582095)\n"
   ]
  },
  {
   "cell_type": "markdown",
   "metadata": {},
   "source": [
    "Score: 0.175603, (MSE: 24657.080911)"
   ]
  },
  {
   "cell_type": "markdown",
   "metadata": {},
   "source": [
    "Score: 0.215491, (MSE: 19930.898756)"
   ]
  },
  {
   "cell_type": "markdown",
   "metadata": {},
   "source": [
    "## Test predictions"
   ]
  },
  {
   "cell_type": "code",
   "execution_count": 13,
   "metadata": {},
   "outputs": [
    {
     "data": {
      "text/html": [
       "<div>\n",
       "<style scoped>\n",
       "    .dataframe tbody tr th:only-of-type {\n",
       "        vertical-align: middle;\n",
       "    }\n",
       "\n",
       "    .dataframe tbody tr th {\n",
       "        vertical-align: top;\n",
       "    }\n",
       "\n",
       "    .dataframe thead th {\n",
       "        text-align: right;\n",
       "    }\n",
       "</style>\n",
       "<table border=\"1\" class=\"dataframe\">\n",
       "  <thead>\n",
       "    <tr style=\"text-align: right;\">\n",
       "      <th></th>\n",
       "      <th></th>\n",
       "      <th>r</th>\n",
       "      <th>c</th>\n",
       "    </tr>\n",
       "    <tr>\n",
       "      <th>sequence</th>\n",
       "      <th>frame</th>\n",
       "      <th></th>\n",
       "      <th></th>\n",
       "    </tr>\n",
       "  </thead>\n",
       "  <tbody>\n",
       "    <tr>\n",
       "      <th rowspan=\"5\" valign=\"top\">1</th>\n",
       "      <th>1</th>\n",
       "      <td>261.0</td>\n",
       "      <td>493.0</td>\n",
       "    </tr>\n",
       "    <tr>\n",
       "      <th>2</th>\n",
       "      <td>32.0</td>\n",
       "      <td>487.0</td>\n",
       "    </tr>\n",
       "    <tr>\n",
       "      <th>2</th>\n",
       "      <td>235.0</td>\n",
       "      <td>518.0</td>\n",
       "    </tr>\n",
       "    <tr>\n",
       "      <th>2</th>\n",
       "      <td>248.0</td>\n",
       "      <td>335.0</td>\n",
       "    </tr>\n",
       "    <tr>\n",
       "      <th>2</th>\n",
       "      <td>402.0</td>\n",
       "      <td>71.0</td>\n",
       "    </tr>\n",
       "  </tbody>\n",
       "</table>\n",
       "</div>"
      ],
      "text/plain": [
       "                    r      c\n",
       "sequence frame              \n",
       "1        1      261.0  493.0\n",
       "         2       32.0  487.0\n",
       "         2      235.0  518.0\n",
       "         2      248.0  335.0\n",
       "         2      402.0   71.0"
      ]
     },
     "execution_count": 13,
     "metadata": {},
     "output_type": "execute_result"
    }
   ],
   "source": [
    "with open('submission.json') as f:\n",
    "    sub = json.load(f)\n",
    "\n",
    "sub = pd.DataFrame([\n",
    "    {\n",
    "        'sequence': frame['sequence_id'],\n",
    "        'frame': frame['frame'],\n",
    "        'r': y + .5,\n",
    "        'c': x + .5\n",
    "    }\n",
    "    for frame in sub\n",
    "    for x, y in frame['object_coords']\n",
    "])\n",
    "sub = sub.set_index(['sequence', 'frame'])\n",
    "sub.head()"
   ]
  },
  {
   "cell_type": "code",
   "execution_count": 14,
   "metadata": {},
   "outputs": [
    {
     "data": {
      "text/html": [
       "<div>\n",
       "<style scoped>\n",
       "    .dataframe tbody tr th:only-of-type {\n",
       "        vertical-align: middle;\n",
       "    }\n",
       "\n",
       "    .dataframe tbody tr th {\n",
       "        vertical-align: top;\n",
       "    }\n",
       "\n",
       "    .dataframe thead th {\n",
       "        text-align: right;\n",
       "    }\n",
       "</style>\n",
       "<table border=\"1\" class=\"dataframe\">\n",
       "  <thead>\n",
       "    <tr style=\"text-align: right;\">\n",
       "      <th></th>\n",
       "      <th></th>\n",
       "      <th>r</th>\n",
       "      <th>c</th>\n",
       "    </tr>\n",
       "    <tr>\n",
       "      <th>sequence</th>\n",
       "      <th>frame</th>\n",
       "      <th></th>\n",
       "      <th></th>\n",
       "    </tr>\n",
       "  </thead>\n",
       "  <tbody>\n",
       "    <tr>\n",
       "      <th rowspan=\"5\" valign=\"top\">1</th>\n",
       "      <th>1</th>\n",
       "      <td>261.0</td>\n",
       "      <td>493.0</td>\n",
       "    </tr>\n",
       "    <tr>\n",
       "      <th>2</th>\n",
       "      <td>32.0</td>\n",
       "      <td>487.0</td>\n",
       "    </tr>\n",
       "    <tr>\n",
       "      <th>2</th>\n",
       "      <td>235.0</td>\n",
       "      <td>518.0</td>\n",
       "    </tr>\n",
       "    <tr>\n",
       "      <th>2</th>\n",
       "      <td>248.0</td>\n",
       "      <td>335.0</td>\n",
       "    </tr>\n",
       "    <tr>\n",
       "      <th>2</th>\n",
       "      <td>402.0</td>\n",
       "      <td>71.0</td>\n",
       "    </tr>\n",
       "    <tr>\n",
       "      <th>...</th>\n",
       "      <th>...</th>\n",
       "      <td>...</td>\n",
       "      <td>...</td>\n",
       "    </tr>\n",
       "    <tr>\n",
       "      <th rowspan=\"5\" valign=\"top\">5120</th>\n",
       "      <th>1</th>\n",
       "      <td>87.0</td>\n",
       "      <td>369.0</td>\n",
       "    </tr>\n",
       "    <tr>\n",
       "      <th>2</th>\n",
       "      <td>66.0</td>\n",
       "      <td>389.0</td>\n",
       "    </tr>\n",
       "    <tr>\n",
       "      <th>3</th>\n",
       "      <td>46.0</td>\n",
       "      <td>408.0</td>\n",
       "    </tr>\n",
       "    <tr>\n",
       "      <th>4</th>\n",
       "      <td>26.0</td>\n",
       "      <td>427.0</td>\n",
       "    </tr>\n",
       "    <tr>\n",
       "      <th>5</th>\n",
       "      <td>5.0</td>\n",
       "      <td>446.0</td>\n",
       "    </tr>\n",
       "  </tbody>\n",
       "</table>\n",
       "<p>34480 rows × 2 columns</p>\n",
       "</div>"
      ],
      "text/plain": [
       "                    r      c\n",
       "sequence frame              \n",
       "1        1      261.0  493.0\n",
       "         2       32.0  487.0\n",
       "         2      235.0  518.0\n",
       "         2      248.0  335.0\n",
       "         2      402.0   71.0\n",
       "...               ...    ...\n",
       "5120     1       87.0  369.0\n",
       "         2       66.0  389.0\n",
       "         3       46.0  408.0\n",
       "         4       26.0  427.0\n",
       "         5        5.0  446.0\n",
       "\n",
       "[34480 rows x 2 columns]"
      ]
     },
     "execution_count": 14,
     "metadata": {},
     "output_type": "execute_result"
    }
   ],
   "source": [
    "sub"
   ]
  },
  {
   "cell_type": "code",
   "execution_count": 15,
   "metadata": {},
   "outputs": [
    {
     "name": "stderr",
     "output_type": "stream",
     "text": [
      "100%|██████████| 4111/4111 [05:22<00:00, 12.75it/s] \n"
     ]
    },
    {
     "data": {
      "text/html": [
       "<div>\n",
       "<style scoped>\n",
       "    .dataframe tbody tr th:only-of-type {\n",
       "        vertical-align: middle;\n",
       "    }\n",
       "\n",
       "    .dataframe tbody tr th {\n",
       "        vertical-align: top;\n",
       "    }\n",
       "\n",
       "    .dataframe thead th {\n",
       "        text-align: right;\n",
       "    }\n",
       "</style>\n",
       "<table border=\"1\" class=\"dataframe\">\n",
       "  <thead>\n",
       "    <tr style=\"text-align: right;\">\n",
       "      <th></th>\n",
       "      <th></th>\n",
       "      <th>r</th>\n",
       "      <th>c</th>\n",
       "    </tr>\n",
       "    <tr>\n",
       "      <th>sequence</th>\n",
       "      <th>frame</th>\n",
       "      <th></th>\n",
       "      <th></th>\n",
       "    </tr>\n",
       "  </thead>\n",
       "  <tbody>\n",
       "    <tr>\n",
       "      <th rowspan=\"5\" valign=\"top\">1</th>\n",
       "      <th>1</th>\n",
       "      <td>261.0</td>\n",
       "      <td>493.0</td>\n",
       "    </tr>\n",
       "    <tr>\n",
       "      <th>2</th>\n",
       "      <td>235.0</td>\n",
       "      <td>518.0</td>\n",
       "    </tr>\n",
       "    <tr>\n",
       "      <th>3</th>\n",
       "      <td>209.0</td>\n",
       "      <td>543.0</td>\n",
       "    </tr>\n",
       "    <tr>\n",
       "      <th>4</th>\n",
       "      <td>183.0</td>\n",
       "      <td>568.0</td>\n",
       "    </tr>\n",
       "    <tr>\n",
       "      <th>5</th>\n",
       "      <td>157.0</td>\n",
       "      <td>593.0</td>\n",
       "    </tr>\n",
       "  </tbody>\n",
       "</table>\n",
       "</div>"
      ],
      "text/plain": [
       "                    r      c\n",
       "sequence frame              \n",
       "1        1      261.0  493.0\n",
       "         2      235.0  518.0\n",
       "         3      209.0  543.0\n",
       "         4      183.0  568.0\n",
       "         5      157.0  593.0"
      ]
     },
     "execution_count": 15,
     "metadata": {},
     "output_type": "execute_result"
    }
   ],
   "source": [
    "sub_pp = pd.concat([\n",
    "    expand_predictions(g.droplevel('sequence')).assign(sequence=sequence)\n",
    "    for sequence, g in tqdm.tqdm(sub.groupby('sequence'), position=0)\n",
    "])\n",
    "sub_pp.index.name = 'frame'\n",
    "sub_pp = sub_pp.reset_index().set_index(['sequence', 'frame'])\n",
    "sub_pp.head()"
   ]
  },
  {
   "cell_type": "code",
   "execution_count": 18,
   "metadata": {},
   "outputs": [
    {
     "name": "stderr",
     "output_type": "stream",
     "text": [
      "100%|██████████| 5120/5120 [00:11<00:00, 435.84it/s]\n"
     ]
    }
   ],
   "source": [
    "save_predictions(\n",
    "    predictions=sub_pp.assign(is_sat=True).set_index(['r', 'c'], append=True)['is_sat'].sort_index(),\n",
    "    path='submission_pp.json',\n",
    "    n_sequences=5120\n",
    ")"
   ]
  },
  {
   "cell_type": "code",
   "execution_count": 17,
   "metadata": {},
   "outputs": [],
   "source": [
    "import zipfile\n",
    "\n",
    "with zipfile.ZipFile('submission_pp.zip', mode='w') as f:\n",
    "    f.write('submission_pp.json')"
   ]
  },
  {
   "cell_type": "markdown",
   "metadata": {},
   "source": [
    "That's all folks!"
   ]
  }
 ],
 "metadata": {
  "kernelspec": {
   "display_name": "Python 3",
   "language": "python",
   "name": "python3"
  },
  "language_info": {
   "codemirror_mode": {
    "name": "ipython",
    "version": 3
   },
   "file_extension": ".py",
   "mimetype": "text/x-python",
   "name": "python",
   "nbconvert_exporter": "python",
   "pygments_lexer": "ipython3",
   "version": "3.7.4"
  }
 },
 "nbformat": 4,
 "nbformat_minor": 4
}

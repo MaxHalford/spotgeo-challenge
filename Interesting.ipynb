{
 "cells": [
  {
   "cell_type": "code",
   "execution_count": 10,
   "metadata": {},
   "outputs": [],
   "source": [
    "import numpy as np\n",
    "import pandas as pd\n",
    "from skimage import measure\n",
    "from scipy import ndimage\n",
    "from scipy import signal\n",
    "\n",
    "\n",
    "l = np.arange(480) - 1\n",
    "l[0] = 0\n",
    "r = np.arange(480) + 1\n",
    "r[-1] = r[-2]\n",
    "b = np.arange(640) - 1\n",
    "b[0] = 0\n",
    "u = np.arange(640) + 1\n",
    "u[-1] = u[-2]\n",
    "\n",
    "\n",
    "def expand(mask):\n",
    "    new = mask.copy()\n",
    "    \n",
    "    for shift in [l, r]:\n",
    "        new |= mask[shift, :]\n",
    "    \n",
    "    for shift in [b, u]:\n",
    "        new |= mask[:, shift]\n",
    "\n",
    "    return new\n",
    "\n",
    "\n",
    "def find_interesting_pixels(img):\n",
    "    \n",
    "    med = ndimage.median_filter(img, size=40)\n",
    "    #mask = img > med + 10\n",
    "    mask = img > med * 1.3\n",
    "    \n",
    "    labels = measure.label(expand(mask))\n",
    "    \n",
    "    return pd.DataFrame(\n",
    "        [\n",
    "            region.centroid\n",
    "            for region in measure.regionprops(labels)\n",
    "            if region.area <= 25\n",
    "        ],\n",
    "        columns=['r', 'c']\n",
    "    )"
   ]
  },
  {
   "cell_type": "markdown",
   "metadata": {},
   "source": [
    "Example."
   ]
  },
  {
   "cell_type": "code",
   "execution_count": 11,
   "metadata": {},
   "outputs": [
    {
     "data": {
      "text/plain": [
       "(90, 2)"
      ]
     },
     "execution_count": 11,
     "metadata": {},
     "output_type": "execute_result"
    }
   ],
   "source": [
    "from PIL import Image\n",
    "\n",
    "img = np.asarray(Image.open('data/spotGEO/train/10/1.png'))\n",
    "find_interesting_pixels(img).shape"
   ]
  },
  {
   "cell_type": "markdown",
   "metadata": {},
   "source": [
    "Do it for each image."
   ]
  },
  {
   "cell_type": "code",
   "execution_count": null,
   "metadata": {},
   "outputs": [
    {
     "name": "stderr",
     "output_type": "stream",
     "text": [
      "100%|██████████| 1281/1281 [1:50:47<00:00,  5.19s/it]\n",
      " 40%|███▉      | 2040/5120 [3:06:42<5:34:44,  6.52s/it]"
     ]
    }
   ],
   "source": [
    "import pathlib\n",
    "from joblib import Parallel, delayed\n",
    "import tqdm\n",
    "\n",
    "def f(part, seq, frame):\n",
    "    img = np.asarray(Image.open(frame))\n",
    "    return find_interesting_pixels(img).assign(part=part, sequence=int(seq.name), frame=int(frame.stem))\n",
    "\n",
    "interesting = Parallel(n_jobs=4)(\n",
    "    delayed(f)(part, seq, frame)\n",
    "    for part in ['train', 'test']\n",
    "    for seq in tqdm.tqdm(list(pathlib.Path(f'data/spotGEO/{part}').glob('*')), position=0)\n",
    "    for frame in seq.glob('*.png')\n",
    ")\n",
    "\n",
    "interesting = pd.concat(interesting)\n",
    "interesting = interesting.set_index(['part', 'sequence', 'frame']).sort_index()\n",
    "interesting.to_pickle('data/interesting.pkl')"
   ]
  },
  {
   "cell_type": "markdown",
   "metadata": {},
   "source": [
    "Average number of interesting regions per image."
   ]
  },
  {
   "cell_type": "code",
   "execution_count": null,
   "metadata": {},
   "outputs": [],
   "source": [
    "interesting.groupby(['part', 'sequence', 'frame']).size().mean()"
   ]
  },
  {
   "cell_type": "markdown",
   "metadata": {},
   "source": [
    "Percentage of pixels this represents."
   ]
  },
  {
   "cell_type": "code",
   "execution_count": null,
   "metadata": {},
   "outputs": [],
   "source": [
    "f'{len(interesting) / (640 * 480 * 31996):%}'"
   ]
  },
  {
   "cell_type": "markdown",
   "metadata": {},
   "source": [
    "Now let's annotate each interesting region."
   ]
  },
  {
   "cell_type": "code",
   "execution_count": null,
   "metadata": {},
   "outputs": [],
   "source": [
    "import json\n",
    "import pandas as pd\n",
    "\n",
    "sats = []\n",
    "\n",
    "with open('data/spotGEO/train_anno.json') as f:\n",
    "    for ann in json.load(f):\n",
    "        for i, coords in enumerate(ann['object_coords']):\n",
    "            sats.append({\n",
    "                'sequence': ann['sequence_id'],\n",
    "                'frame': ann['frame'],\n",
    "                'satellite': i + 1,\n",
    "                'r': int(coords[1] + .5),\n",
    "                'c': int(coords[0] + .5),\n",
    "            })\n",
    "    \n",
    "sats = pd.DataFrame(sats)\n",
    "sats = sats.set_index(['sequence', 'frame', 'satellite'])\n",
    "sats.head()"
   ]
  },
  {
   "cell_type": "code",
   "execution_count": null,
   "metadata": {},
   "outputs": [],
   "source": [
    "from scipy import optimize \n",
    "\n",
    "def assign_labels(interesting, satellites):\n",
    "    \n",
    "    # Compute the distance between each satellite and each interesting location,\n",
    "    # thus forming a bipartite graph\n",
    "    distances = distance.cdist(satellites, interesting)\n",
    "    \n",
    "    # Guess which locations correspond to which satellites\n",
    "    row_ind, col_ind = optimize.linear_sum_assignment(distances)\n",
    "\n",
    "    # Each satellite is assigned, but some of them may too distant to be likely\n",
    "    likely = distances[row_ind, col_ind] < 3\n",
    "    \n",
    "    labels = np.full(len(interesting), False, dtype=bool)\n",
    "    labels[col_ind[likely]] = True\n",
    "    return labels"
   ]
  },
  {
   "cell_type": "markdown",
   "metadata": {},
   "source": [
    "Example."
   ]
  },
  {
   "cell_type": "code",
   "execution_count": null,
   "metadata": {},
   "outputs": [],
   "source": [
    "assign_labels(interesting.loc['train', 1, 1], sats.loc[1, 1])"
   ]
  },
  {
   "cell_type": "markdown",
   "metadata": {},
   "source": [
    "Now assign labels for each frame."
   ]
  },
  {
   "cell_type": "code",
   "execution_count": null,
   "metadata": {},
   "outputs": [],
   "source": [
    "labels = pd.Series(dtype=bool, index=interesting.loc['train'].index)\n",
    "\n",
    "for (sequence, frame), locations in tqdm.tqdm(interesting.loc['train'].groupby(['sequence', 'frame']), position=0):\n",
    "    try:\n",
    "        satellites = sats.loc[sequence, frame]\n",
    "    except KeyError:\n",
    "        continue\n",
    "    labels.loc[sequence, frame] = assign_labels(locations, satellites)\n",
    "    \n",
    "interesting['is_satellite'] = None\n",
    "interesting.loc['train', 'is_satellite'] = labels.values\n",
    "interesting.to_pickle('data/interesting.pkl')"
   ]
  },
  {
   "cell_type": "markdown",
   "metadata": {},
   "source": [
    "Determine the amount of satellites that got assigned."
   ]
  },
  {
   "cell_type": "code",
   "execution_count": null,
   "metadata": {},
   "outputs": [],
   "source": [
    "interesting.loc['train']['is_satellite'].sum() / len(sats)"
   ]
  }
 ],
 "metadata": {
  "kernelspec": {
   "display_name": "Python 3",
   "language": "python",
   "name": "python3"
  },
  "language_info": {
   "codemirror_mode": {
    "name": "ipython",
    "version": 3
   },
   "file_extension": ".py",
   "mimetype": "text/x-python",
   "name": "python",
   "nbconvert_exporter": "python",
   "pygments_lexer": "ipython3",
   "version": "3.7.4"
  }
 },
 "nbformat": 4,
 "nbformat_minor": 4
}

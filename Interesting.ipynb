{
 "cells": [
  {
   "cell_type": "markdown",
   "metadata": {},
   "source": [
    "We're going to use a custom Cython implementation of the median filter."
   ]
  },
  {
   "cell_type": "code",
   "execution_count": 1,
   "metadata": {},
   "outputs": [],
   "source": [
    "import median_filter"
   ]
  },
  {
   "cell_type": "code",
   "execution_count": 2,
   "metadata": {},
   "outputs": [],
   "source": [
    "import numpy as np\n",
    "import pandas as pd\n",
    "from skimage import measure\n",
    "\n",
    "\n",
    "l = np.arange(480) - 1\n",
    "l[0] = 0\n",
    "r = np.arange(480) + 1\n",
    "r[-1] = r[-2]\n",
    "b = np.arange(640) - 1\n",
    "b[0] = 0\n",
    "u = np.arange(640) + 1\n",
    "u[-1] = u[-2]\n",
    "\n",
    "\n",
    "def expand(mask):\n",
    "    new = mask.copy()\n",
    "    \n",
    "    for shift in [l, r]:\n",
    "        new |= mask[shift, :]\n",
    "    \n",
    "    for shift in [b, u]:\n",
    "        new |= mask[:, shift]\n",
    "\n",
    "    return new\n",
    "\n",
    "\n",
    "def find_interesting_pixels(img):\n",
    "    \n",
    "    med = median_filter.median_filter(img, 20)\n",
    "    mask = img > med + 7\n",
    "    \n",
    "    labels = measure.label(expand(mask))\n",
    "    \n",
    "    return pd.DataFrame(\n",
    "        [\n",
    "            [*region.centroid, region.area, region.eccentricity, region.solidity]\n",
    "            for region in measure.regionprops(labels)\n",
    "        ],\n",
    "        columns=['r', 'c', 'area', 'eccentricity', 'solidity']\n",
    "    )"
   ]
  },
  {
   "cell_type": "markdown",
   "metadata": {},
   "source": [
    "Example."
   ]
  },
  {
   "cell_type": "code",
   "execution_count": 3,
   "metadata": {},
   "outputs": [
    {
     "data": {
      "text/plain": [
       "(415, 5)"
      ]
     },
     "execution_count": 3,
     "metadata": {},
     "output_type": "execute_result"
    }
   ],
   "source": [
    "from PIL import Image\n",
    "\n",
    "img = np.asarray(Image.open('data/spotGEO/train/10/1.png')).copy()\n",
    "find_interesting_pixels(img).shape"
   ]
  },
  {
   "cell_type": "markdown",
   "metadata": {},
   "source": [
    "Do it for each image."
   ]
  },
  {
   "cell_type": "code",
   "execution_count": 4,
   "metadata": {},
   "outputs": [
    {
     "name": "stderr",
     "output_type": "stream",
     "text": [
      "100%|██████████| 1281/1281 [05:00<00:00,  4.27it/s]\n",
      "100%|██████████| 5120/5120 [23:35<00:00,  3.62it/s]  \n"
     ]
    }
   ],
   "source": [
    "import pathlib\n",
    "from joblib import Parallel, delayed\n",
    "import tqdm\n",
    "\n",
    "def f(part, seq, frame):\n",
    "    img = np.array(Image.open(frame))\n",
    "    return find_interesting_pixels(img).assign(part=part, sequence=int(seq.name), frame=int(frame.stem))\n",
    "\n",
    "interesting = Parallel(n_jobs=4)(\n",
    "    delayed(f)(part, seq, frame)\n",
    "    for part in ['train', 'test']\n",
    "    for seq in tqdm.tqdm(list(pathlib.Path(f'data/spotGEO/{part}').glob('*')), position=0)\n",
    "    for frame in seq.glob('*.png')\n",
    ")\n",
    "\n",
    "interesting = pd.concat(interesting)\n",
    "interesting = interesting.set_index(['part', 'sequence', 'frame']).sort_index()\n",
    "interesting.to_pickle('data/interesting.pkl')"
   ]
  },
  {
   "cell_type": "markdown",
   "metadata": {},
   "source": [
    "Average number of interesting regions per image."
   ]
  },
  {
   "cell_type": "code",
   "execution_count": 5,
   "metadata": {},
   "outputs": [
    {
     "data": {
      "text/plain": [
       "260.93625"
      ]
     },
     "execution_count": 5,
     "metadata": {},
     "output_type": "execute_result"
    }
   ],
   "source": [
    "interesting.groupby(['part', 'sequence', 'frame']).size().mean()"
   ]
  },
  {
   "cell_type": "markdown",
   "metadata": {},
   "source": [
    "Percentage of pixels this represents."
   ]
  },
  {
   "cell_type": "code",
   "execution_count": 6,
   "metadata": {},
   "outputs": [
    {
     "data": {
      "text/plain": [
       "'0.084951%'"
      ]
     },
     "execution_count": 6,
     "metadata": {},
     "output_type": "execute_result"
    }
   ],
   "source": [
    "f'{len(interesting) / (640 * 480 * 31996):%}'"
   ]
  },
  {
   "cell_type": "markdown",
   "metadata": {},
   "source": [
    "Load the provided annotations."
   ]
  },
  {
   "cell_type": "code",
   "execution_count": 7,
   "metadata": {},
   "outputs": [
    {
     "data": {
      "text/html": [
       "<div>\n",
       "<style scoped>\n",
       "    .dataframe tbody tr th:only-of-type {\n",
       "        vertical-align: middle;\n",
       "    }\n",
       "\n",
       "    .dataframe tbody tr th {\n",
       "        vertical-align: top;\n",
       "    }\n",
       "\n",
       "    .dataframe thead th {\n",
       "        text-align: right;\n",
       "    }\n",
       "</style>\n",
       "<table border=\"1\" class=\"dataframe\">\n",
       "  <thead>\n",
       "    <tr style=\"text-align: right;\">\n",
       "      <th></th>\n",
       "      <th></th>\n",
       "      <th></th>\n",
       "      <th>r</th>\n",
       "      <th>c</th>\n",
       "    </tr>\n",
       "    <tr>\n",
       "      <th>sequence</th>\n",
       "      <th>frame</th>\n",
       "      <th>satellite</th>\n",
       "      <th></th>\n",
       "      <th></th>\n",
       "    </tr>\n",
       "  </thead>\n",
       "  <tbody>\n",
       "    <tr>\n",
       "      <th rowspan=\"5\" valign=\"top\">1</th>\n",
       "      <th rowspan=\"3\" valign=\"top\">1</th>\n",
       "      <th>1</th>\n",
       "      <td>237</td>\n",
       "      <td>502</td>\n",
       "    </tr>\n",
       "    <tr>\n",
       "      <th>2</th>\n",
       "      <td>222</td>\n",
       "      <td>490</td>\n",
       "    </tr>\n",
       "    <tr>\n",
       "      <th>3</th>\n",
       "      <td>129</td>\n",
       "      <td>141</td>\n",
       "    </tr>\n",
       "    <tr>\n",
       "      <th rowspan=\"2\" valign=\"top\">2</th>\n",
       "      <th>1</th>\n",
       "      <td>214</td>\n",
       "      <td>530</td>\n",
       "    </tr>\n",
       "    <tr>\n",
       "      <th>2</th>\n",
       "      <td>199</td>\n",
       "      <td>518</td>\n",
       "    </tr>\n",
       "  </tbody>\n",
       "</table>\n",
       "</div>"
      ],
      "text/plain": [
       "                            r    c\n",
       "sequence frame satellite          \n",
       "1        1     1          237  502\n",
       "               2          222  490\n",
       "               3          129  141\n",
       "         2     1          214  530\n",
       "               2          199  518"
      ]
     },
     "execution_count": 7,
     "metadata": {},
     "output_type": "execute_result"
    }
   ],
   "source": [
    "import json\n",
    "import pandas as pd\n",
    "\n",
    "sats = []\n",
    "\n",
    "with open('data/spotGEO/train_anno.json') as f:\n",
    "    for ann in json.load(f):\n",
    "        for i, coords in enumerate(ann['object_coords']):\n",
    "            sats.append({\n",
    "                'sequence': ann['sequence_id'],\n",
    "                'frame': ann['frame'],\n",
    "                'satellite': i + 1,\n",
    "                'r': int(coords[1] + .5),\n",
    "                'c': int(coords[0] + .5),\n",
    "            })\n",
    "    \n",
    "sats = pd.DataFrame(sats)\n",
    "sats = sats.set_index(['sequence', 'frame', 'satellite'])\n",
    "sats.head()"
   ]
  },
  {
   "cell_type": "markdown",
   "metadata": {},
   "source": [
    "Now let's annotate each interesting region."
   ]
  },
  {
   "cell_type": "code",
   "execution_count": 8,
   "metadata": {},
   "outputs": [],
   "source": [
    "from scipy import optimize\n",
    "from scipy.spatial import distance\n",
    "\n",
    "def assign_labels(interesting, satellites):\n",
    "    \n",
    "    # Compute the distance between each satellite and each interesting location,\n",
    "    # thus forming a bipartite graph\n",
    "    distances = distance.cdist(satellites, interesting)\n",
    "    \n",
    "    # Guess which locations correspond to which satellites\n",
    "    row_ind, col_ind = optimize.linear_sum_assignment(distances)\n",
    "\n",
    "    # Each satellite is assigned, but some of them may be too distant to be likely\n",
    "    likely = distances[row_ind, col_ind] < 3\n",
    "    \n",
    "    labels = np.full(len(interesting), False, dtype=bool)\n",
    "    labels[col_ind[likely]] = True\n",
    "    return labels"
   ]
  },
  {
   "cell_type": "markdown",
   "metadata": {},
   "source": [
    "Example."
   ]
  },
  {
   "cell_type": "code",
   "execution_count": 9,
   "metadata": {},
   "outputs": [
    {
     "data": {
      "text/html": [
       "<div>\n",
       "<style scoped>\n",
       "    .dataframe tbody tr th:only-of-type {\n",
       "        vertical-align: middle;\n",
       "    }\n",
       "\n",
       "    .dataframe tbody tr th {\n",
       "        vertical-align: top;\n",
       "    }\n",
       "\n",
       "    .dataframe thead th {\n",
       "        text-align: right;\n",
       "    }\n",
       "</style>\n",
       "<table border=\"1\" class=\"dataframe\">\n",
       "  <thead>\n",
       "    <tr style=\"text-align: right;\">\n",
       "      <th></th>\n",
       "      <th></th>\n",
       "      <th></th>\n",
       "      <th>r</th>\n",
       "      <th>c</th>\n",
       "      <th>area</th>\n",
       "      <th>eccentricity</th>\n",
       "      <th>solidity</th>\n",
       "    </tr>\n",
       "    <tr>\n",
       "      <th>part</th>\n",
       "      <th>sequence</th>\n",
       "      <th>frame</th>\n",
       "      <th></th>\n",
       "      <th></th>\n",
       "      <th></th>\n",
       "      <th></th>\n",
       "      <th></th>\n",
       "    </tr>\n",
       "  </thead>\n",
       "  <tbody>\n",
       "    <tr>\n",
       "      <th rowspan=\"5\" valign=\"top\">test</th>\n",
       "      <th rowspan=\"5\" valign=\"top\">1</th>\n",
       "      <th>1</th>\n",
       "      <td>2.000000</td>\n",
       "      <td>334.000000</td>\n",
       "      <td>5</td>\n",
       "      <td>0.000000</td>\n",
       "      <td>1.000000</td>\n",
       "    </tr>\n",
       "    <tr>\n",
       "      <th>1</th>\n",
       "      <td>7.432836</td>\n",
       "      <td>339.350746</td>\n",
       "      <td>134</td>\n",
       "      <td>0.983181</td>\n",
       "      <td>0.853503</td>\n",
       "    </tr>\n",
       "    <tr>\n",
       "      <th>1</th>\n",
       "      <td>10.727273</td>\n",
       "      <td>264.642857</td>\n",
       "      <td>154</td>\n",
       "      <td>0.978166</td>\n",
       "      <td>0.865169</td>\n",
       "    </tr>\n",
       "    <tr>\n",
       "      <th>1</th>\n",
       "      <td>6.000000</td>\n",
       "      <td>321.000000</td>\n",
       "      <td>5</td>\n",
       "      <td>0.000000</td>\n",
       "      <td>1.000000</td>\n",
       "    </tr>\n",
       "    <tr>\n",
       "      <th>1</th>\n",
       "      <td>18.993590</td>\n",
       "      <td>40.365385</td>\n",
       "      <td>156</td>\n",
       "      <td>0.975910</td>\n",
       "      <td>0.901734</td>\n",
       "    </tr>\n",
       "    <tr>\n",
       "      <th>...</th>\n",
       "      <th>...</th>\n",
       "      <th>...</th>\n",
       "      <td>...</td>\n",
       "      <td>...</td>\n",
       "      <td>...</td>\n",
       "      <td>...</td>\n",
       "      <td>...</td>\n",
       "    </tr>\n",
       "    <tr>\n",
       "      <th rowspan=\"5\" valign=\"top\">train</th>\n",
       "      <th rowspan=\"5\" valign=\"top\">1280</th>\n",
       "      <th>5</th>\n",
       "      <td>463.416667</td>\n",
       "      <td>290.000000</td>\n",
       "      <td>12</td>\n",
       "      <td>0.881527</td>\n",
       "      <td>0.857143</td>\n",
       "    </tr>\n",
       "    <tr>\n",
       "      <th>5</th>\n",
       "      <td>474.173913</td>\n",
       "      <td>56.043478</td>\n",
       "      <td>46</td>\n",
       "      <td>0.935946</td>\n",
       "      <td>0.867925</td>\n",
       "    </tr>\n",
       "    <tr>\n",
       "      <th>5</th>\n",
       "      <td>470.230769</td>\n",
       "      <td>291.230769</td>\n",
       "      <td>13</td>\n",
       "      <td>0.729661</td>\n",
       "      <td>0.928571</td>\n",
       "    </tr>\n",
       "    <tr>\n",
       "      <th>5</th>\n",
       "      <td>477.357143</td>\n",
       "      <td>293.142857</td>\n",
       "      <td>14</td>\n",
       "      <td>0.678394</td>\n",
       "      <td>0.933333</td>\n",
       "    </tr>\n",
       "    <tr>\n",
       "      <th>5</th>\n",
       "      <td>478.285714</td>\n",
       "      <td>107.000000</td>\n",
       "      <td>7</td>\n",
       "      <td>0.377964</td>\n",
       "      <td>1.000000</td>\n",
       "    </tr>\n",
       "  </tbody>\n",
       "</table>\n",
       "<p>8349960 rows × 5 columns</p>\n",
       "</div>"
      ],
      "text/plain": [
       "                               r           c  area  eccentricity  solidity\n",
       "part  sequence frame                                                      \n",
       "test  1        1        2.000000  334.000000     5      0.000000  1.000000\n",
       "               1        7.432836  339.350746   134      0.983181  0.853503\n",
       "               1       10.727273  264.642857   154      0.978166  0.865169\n",
       "               1        6.000000  321.000000     5      0.000000  1.000000\n",
       "               1       18.993590   40.365385   156      0.975910  0.901734\n",
       "...                          ...         ...   ...           ...       ...\n",
       "train 1280     5      463.416667  290.000000    12      0.881527  0.857143\n",
       "               5      474.173913   56.043478    46      0.935946  0.867925\n",
       "               5      470.230769  291.230769    13      0.729661  0.928571\n",
       "               5      477.357143  293.142857    14      0.678394  0.933333\n",
       "               5      478.285714  107.000000     7      0.377964  1.000000\n",
       "\n",
       "[8349960 rows x 5 columns]"
      ]
     },
     "execution_count": 9,
     "metadata": {},
     "output_type": "execute_result"
    }
   ],
   "source": [
    "interesting"
   ]
  },
  {
   "cell_type": "code",
   "execution_count": 10,
   "metadata": {},
   "outputs": [
    {
     "data": {
      "text/plain": [
       "array([False, False, False, False, False, False, False, False, False,\n",
       "       False, False, False, False, False, False, False, False, False,\n",
       "       False, False, False, False, False, False, False, False, False,\n",
       "       False, False, False, False, False, False, False, False, False,\n",
       "       False, False, False, False, False, False, False,  True, False,\n",
       "       False, False, False, False, False, False, False, False, False,\n",
       "       False, False, False, False, False, False, False, False, False,\n",
       "       False, False, False, False, False, False, False, False, False,\n",
       "       False, False, False, False, False, False, False, False, False,\n",
       "       False, False, False,  True, False, False, False, False, False,\n",
       "       False, False, False,  True, False, False, False, False, False,\n",
       "       False, False, False, False, False, False, False, False, False,\n",
       "       False, False, False, False, False, False, False, False, False,\n",
       "       False, False, False, False, False, False, False, False, False,\n",
       "       False, False, False, False, False, False, False, False, False,\n",
       "       False, False, False, False, False, False, False, False, False,\n",
       "       False, False, False, False, False, False, False, False, False,\n",
       "       False, False, False, False, False, False, False, False, False,\n",
       "       False, False, False, False, False, False, False, False, False,\n",
       "       False, False, False, False, False, False, False, False, False,\n",
       "       False, False, False, False, False, False, False, False, False,\n",
       "       False, False, False, False, False, False, False])"
      ]
     },
     "execution_count": 10,
     "metadata": {},
     "output_type": "execute_result"
    }
   ],
   "source": [
    "assign_labels(interesting.loc['train', 1, 1][['r', 'c']], sats.loc[1, 1][['r', 'c']])"
   ]
  },
  {
   "cell_type": "markdown",
   "metadata": {},
   "source": [
    "Now assign labels for each frame."
   ]
  },
  {
   "cell_type": "code",
   "execution_count": 11,
   "metadata": {},
   "outputs": [
    {
     "name": "stderr",
     "output_type": "stream",
     "text": [
      "100%|██████████| 6400/6400 [00:39<00:00, 161.94it/s]\n"
     ]
    }
   ],
   "source": [
    "labels = pd.Series(dtype=bool, index=interesting.loc['train'].index)\n",
    "\n",
    "for (sequence, frame), locations in tqdm.tqdm(interesting.loc['train'].groupby(['sequence', 'frame']), position=0):\n",
    "    try:\n",
    "        satellites = sats.loc[sequence, frame]\n",
    "    except KeyError:\n",
    "        continue\n",
    "    labels.loc[sequence, frame] = assign_labels(locations[['r', 'c']], satellites[['r', 'c']])\n",
    "    \n",
    "interesting['is_satellite'] = None\n",
    "interesting.loc['train', 'is_satellite'] = labels.values\n",
    "interesting.to_pickle('data/interesting.pkl')"
   ]
  },
  {
   "cell_type": "markdown",
   "metadata": {},
   "source": [
    "Determine the amount of satellites that got assigned."
   ]
  },
  {
   "cell_type": "code",
   "execution_count": 12,
   "metadata": {},
   "outputs": [
    {
     "data": {
      "text/plain": [
       "0.7941990182954038"
      ]
     },
     "execution_count": 12,
     "metadata": {},
     "output_type": "execute_result"
    }
   ],
   "source": [
    "interesting.loc['train']['is_satellite'].sum() / len(sats)"
   ]
  },
  {
   "cell_type": "code",
   "execution_count": 13,
   "metadata": {},
   "outputs": [
    {
     "data": {
      "text/plain": [
       "0.6863900044622936"
      ]
     },
     "execution_count": 13,
     "metadata": {},
     "output_type": "execute_result"
    }
   ],
   "source": [
    "0.6863900044622936"
   ]
  },
  {
   "cell_type": "markdown",
   "metadata": {},
   "source": [
    "Next, head to [Solution.ipynb](Solution.ipynb)."
   ]
  }
 ],
 "metadata": {
  "kernelspec": {
   "display_name": "Python 3",
   "language": "python",
   "name": "python3"
  },
  "language_info": {
   "codemirror_mode": {
    "name": "ipython",
    "version": 3
   },
   "file_extension": ".py",
   "mimetype": "text/x-python",
   "name": "python",
   "nbconvert_exporter": "python",
   "pygments_lexer": "ipython3",
   "version": "3.7.4"
  }
 },
 "nbformat": 4,
 "nbformat_minor": 4
}

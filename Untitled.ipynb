{
 "cells": [
  {
   "cell_type": "code",
   "execution_count": 30,
   "metadata": {},
   "outputs": [],
   "source": [
    "import imageio\n",
    "\n",
    "img = imageio.imread('data/spotGEO/train/10/1.png')"
   ]
  },
  {
   "cell_type": "code",
   "execution_count": 31,
   "metadata": {},
   "outputs": [
    {
     "name": "stdout",
     "output_type": "stream",
     "text": [
      "CPU times: user 296 ms, sys: 2.88 ms, total: 299 ms\n",
      "Wall time: 298 ms\n"
     ]
    },
    {
     "data": {
      "text/plain": [
       "array([[49, 49, 49, ..., 30, 30, 30],\n",
       "       [49, 49, 49, ..., 30, 30, 30],\n",
       "       [49, 49, 49, ..., 31, 30, 30],\n",
       "       ...,\n",
       "       [44, 44, 44, ..., 24, 24, 24],\n",
       "       [44, 44, 44, ..., 24, 24, 24],\n",
       "       [45, 44, 44, ..., 24, 24, 24]], dtype=uint8)"
      ]
     },
     "execution_count": 31,
     "metadata": {},
     "output_type": "execute_result"
    }
   ],
   "source": [
    "from scipy import ndimage\n",
    "\n",
    "k = 30\n",
    "weights = np.full(shape=(k, k), fill_value=1 / k ** 2)\n",
    "%time ndimage.convolve(img, weights, mode='nearest')"
   ]
  },
  {
   "cell_type": "code",
   "execution_count": 32,
   "metadata": {},
   "outputs": [
    {
     "name": "stdout",
     "output_type": "stream",
     "text": [
      "CPU times: user 14.6 ms, sys: 5.27 ms, total: 19.9 ms\n",
      "Wall time: 18.6 ms\n"
     ]
    },
    {
     "data": {
      "text/plain": [
       "array([[12.50888889, 13.36      , 14.18555556, ...,  9.64333333,\n",
       "         9.10111111,  8.55444444],\n",
       "       [13.33666667, 14.24222222, 15.12444444, ..., 10.27333333,\n",
       "         9.69555556,  9.11111111],\n",
       "       [14.16111111, 15.12222222, 16.05666667, ..., 10.90888889,\n",
       "        10.29      ,  9.66888889],\n",
       "       ...,\n",
       "       [12.44888889, 13.29777778, 14.15777778, ...,  8.90111111,\n",
       "         8.41111111,  7.91444444],\n",
       "       [11.78333333, 12.58888889, 13.40333333, ...,  8.4       ,\n",
       "         7.93444444,  7.46555556],\n",
       "       [11.12444444, 11.88333333, 12.65333333, ...,  7.90666667,\n",
       "         7.46666667,  7.02333333]])"
      ]
     },
     "execution_count": 32,
     "metadata": {},
     "output_type": "execute_result"
    }
   ],
   "source": [
    "from scipy import signal\n",
    "\n",
    "%time signal.fftconvolve(img, weights, mode='f')"
   ]
  },
  {
   "cell_type": "code",
   "execution_count": 49,
   "metadata": {},
   "outputs": [
    {
     "name": "stdout",
     "output_type": "stream",
     "text": [
      "282 ms ± 1.2 ms per loop (mean ± std. dev. of 7 runs, 1 loop each)\n"
     ]
    }
   ],
   "source": [
    "%timeit ndimage.convolve(img.astype(float), weights, mode='nearest')"
   ]
  },
  {
   "cell_type": "code",
   "execution_count": 48,
   "metadata": {},
   "outputs": [
    {
     "name": "stdout",
     "output_type": "stream",
     "text": [
      "12 ms ± 381 µs per loop (mean ± std. dev. of 7 runs, 100 loops each)\n"
     ]
    }
   ],
   "source": [
    "%timeit signal.fftconvolve(img, weights, mode='valid')"
   ]
  },
  {
   "cell_type": "code",
   "execution_count": 52,
   "metadata": {},
   "outputs": [
    {
     "name": "stdout",
     "output_type": "stream",
     "text": [
      "20.5 ms ± 201 µs per loop (mean ± std. dev. of 7 runs, 10 loops each)\n"
     ]
    }
   ],
   "source": [
    "%timeit signal.oaconvolve(img, weights, mode='same')"
   ]
  },
  {
   "cell_type": "code",
   "execution_count": null,
   "metadata": {},
   "outputs": [],
   "source": []
  }
 ],
 "metadata": {
  "kernelspec": {
   "display_name": "Python 3",
   "language": "python",
   "name": "python3"
  },
  "language_info": {
   "codemirror_mode": {
    "name": "ipython",
    "version": 3
   },
   "file_extension": ".py",
   "mimetype": "text/x-python",
   "name": "python",
   "nbconvert_exporter": "python",
   "pygments_lexer": "ipython3",
   "version": "3.7.4"
  }
 },
 "nbformat": 4,
 "nbformat_minor": 4
}

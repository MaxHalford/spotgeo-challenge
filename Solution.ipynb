{
 "cells": [
  {
   "cell_type": "markdown",
   "metadata": {},
   "source": [
    "# Solution"
   ]
  },
  {
   "cell_type": "markdown",
   "metadata": {},
   "source": [
    "## Data loading"
   ]
  },
  {
   "cell_type": "markdown",
   "metadata": {},
   "source": [
    "We've already determined which pixels are \"interesting\" in the [previous notebook](Interesting.ipynb)."
   ]
  },
  {
   "cell_type": "code",
   "execution_count": 172,
   "metadata": {},
   "outputs": [
    {
     "data": {
      "text/html": [
       "<div>\n",
       "<style scoped>\n",
       "    .dataframe tbody tr th:only-of-type {\n",
       "        vertical-align: middle;\n",
       "    }\n",
       "\n",
       "    .dataframe tbody tr th {\n",
       "        vertical-align: top;\n",
       "    }\n",
       "\n",
       "    .dataframe thead th {\n",
       "        text-align: right;\n",
       "    }\n",
       "</style>\n",
       "<table border=\"1\" class=\"dataframe\">\n",
       "  <thead>\n",
       "    <tr style=\"text-align: right;\">\n",
       "      <th></th>\n",
       "      <th></th>\n",
       "      <th></th>\n",
       "      <th>r</th>\n",
       "      <th>c</th>\n",
       "      <th>area</th>\n",
       "      <th>eccentricity</th>\n",
       "      <th>solidity</th>\n",
       "      <th>is_satellite</th>\n",
       "    </tr>\n",
       "    <tr>\n",
       "      <th>part</th>\n",
       "      <th>sequence</th>\n",
       "      <th>frame</th>\n",
       "      <th></th>\n",
       "      <th></th>\n",
       "      <th></th>\n",
       "      <th></th>\n",
       "      <th></th>\n",
       "      <th></th>\n",
       "    </tr>\n",
       "  </thead>\n",
       "  <tbody>\n",
       "    <tr>\n",
       "      <th rowspan=\"5\" valign=\"top\">test</th>\n",
       "      <th rowspan=\"5\" valign=\"top\">1</th>\n",
       "      <th>1</th>\n",
       "      <td>7.216981</td>\n",
       "      <td>339.245283</td>\n",
       "      <td>106</td>\n",
       "      <td>0.986314</td>\n",
       "      <td>0.848000</td>\n",
       "      <td>None</td>\n",
       "    </tr>\n",
       "    <tr>\n",
       "      <th>1</th>\n",
       "      <td>10.751724</td>\n",
       "      <td>264.551724</td>\n",
       "      <td>145</td>\n",
       "      <td>0.980358</td>\n",
       "      <td>0.843023</td>\n",
       "      <td>None</td>\n",
       "    </tr>\n",
       "    <tr>\n",
       "      <th>1</th>\n",
       "      <td>18.708333</td>\n",
       "      <td>40.666667</td>\n",
       "      <td>144</td>\n",
       "      <td>0.980083</td>\n",
       "      <td>0.862275</td>\n",
       "      <td>None</td>\n",
       "    </tr>\n",
       "    <tr>\n",
       "      <th>1</th>\n",
       "      <td>20.500000</td>\n",
       "      <td>462.827869</td>\n",
       "      <td>122</td>\n",
       "      <td>0.985141</td>\n",
       "      <td>0.877698</td>\n",
       "      <td>None</td>\n",
       "    </tr>\n",
       "    <tr>\n",
       "      <th>1</th>\n",
       "      <td>26.525424</td>\n",
       "      <td>65.909605</td>\n",
       "      <td>177</td>\n",
       "      <td>0.993053</td>\n",
       "      <td>0.811927</td>\n",
       "      <td>None</td>\n",
       "    </tr>\n",
       "  </tbody>\n",
       "</table>\n",
       "</div>"
      ],
      "text/plain": [
       "                             r           c  area  eccentricity  solidity  \\\n",
       "part sequence frame                                                        \n",
       "test 1        1       7.216981  339.245283   106      0.986314  0.848000   \n",
       "              1      10.751724  264.551724   145      0.980358  0.843023   \n",
       "              1      18.708333   40.666667   144      0.980083  0.862275   \n",
       "              1      20.500000  462.827869   122      0.985141  0.877698   \n",
       "              1      26.525424   65.909605   177      0.993053  0.811927   \n",
       "\n",
       "                    is_satellite  \n",
       "part sequence frame               \n",
       "test 1        1             None  \n",
       "              1             None  \n",
       "              1             None  \n",
       "              1             None  \n",
       "              1             None  "
      ]
     },
     "execution_count": 172,
     "metadata": {},
     "output_type": "execute_result"
    }
   ],
   "source": [
    "interesting = pd.read_pickle('data/interesting.pkl')\n",
    "interesting.head()"
   ]
  },
  {
   "cell_type": "markdown",
   "metadata": {},
   "source": [
    "## Feature extraction"
   ]
  },
  {
   "cell_type": "code",
   "execution_count": 180,
   "metadata": {},
   "outputs": [],
   "source": [
    "import numpy as np\n",
    "from scipy import stats\n",
    "\n",
    "def region(img: np.ndarray, r: int, c: int, w: int):\n",
    "    \"\"\"Returns the square of length width with (x, y) being at the center.\"\"\"\n",
    "    return img[\n",
    "        max(r - w, 0) : min(r + w + 1, img.shape[0]),\n",
    "        max(c - w, 0) : min(c + w + 1, img.shape[1])\n",
    "    ]\n",
    "\n",
    "def extract_features(img, r, c):\n",
    "    r3x3 = region(img, r, c, 3).ravel()\n",
    "    r5x5 = region(img, r, c, 5).ravel()\n",
    "    r7x7 = region(img, r, c, 7).ravel()\n",
    "    val = img[r, c]\n",
    "    return {\n",
    "        'pixel_value': val,\n",
    "        '3x3_std': r3x3.std(),\n",
    "        '3x3_min': val - r3x3.min(),\n",
    "        '3x3_max': val - r3x3.max(),\n",
    "        '5x5_std': r5x5.std(),\n",
    "        '5x5_entropy': stats.entropy(r5x5),\n",
    "        '5x5_min': val - r5x5.min(),\n",
    "        '5x5_max': val - r5x5.max(),\n",
    "        '7x7_std': r7x7.std(),\n",
    "        '7x7_entropy': stats.entropy(r7x7),\n",
    "        '7x7_kurtosis': stats.kurtosis(r7x7),\n",
    "        '7x7_skew': stats.skew(r7x7)\n",
    "    }"
   ]
  },
  {
   "cell_type": "markdown",
   "metadata": {},
   "source": [
    "Extract features for each interesting region."
   ]
  },
  {
   "cell_type": "code",
   "execution_count": 181,
   "metadata": {},
   "outputs": [
    {
     "name": "stderr",
     "output_type": "stream",
     "text": [
      "100%|██████████| 6400/6400 [23:26<00:00,  4.55it/s]  \n"
     ]
    },
    {
     "data": {
      "text/html": [
       "<div>\n",
       "<style scoped>\n",
       "    .dataframe tbody tr th:only-of-type {\n",
       "        vertical-align: middle;\n",
       "    }\n",
       "\n",
       "    .dataframe tbody tr th {\n",
       "        vertical-align: top;\n",
       "    }\n",
       "\n",
       "    .dataframe thead th {\n",
       "        text-align: right;\n",
       "    }\n",
       "</style>\n",
       "<table border=\"1\" class=\"dataframe\">\n",
       "  <thead>\n",
       "    <tr style=\"text-align: right;\">\n",
       "      <th></th>\n",
       "      <th></th>\n",
       "      <th></th>\n",
       "      <th></th>\n",
       "      <th></th>\n",
       "      <th>is_satellite</th>\n",
       "      <th>area</th>\n",
       "      <th>eccentricity</th>\n",
       "      <th>solidity</th>\n",
       "      <th>pixel_value</th>\n",
       "      <th>3x3_std</th>\n",
       "      <th>3x3_min</th>\n",
       "      <th>3x3_max</th>\n",
       "      <th>5x5_std</th>\n",
       "      <th>5x5_entropy</th>\n",
       "      <th>5x5_min</th>\n",
       "      <th>5x5_max</th>\n",
       "      <th>7x7_std</th>\n",
       "      <th>7x7_entropy</th>\n",
       "      <th>7x7_kurtosis</th>\n",
       "      <th>7x7_skew</th>\n",
       "    </tr>\n",
       "    <tr>\n",
       "      <th>part</th>\n",
       "      <th>sequence</th>\n",
       "      <th>frame</th>\n",
       "      <th>r</th>\n",
       "      <th>c</th>\n",
       "      <th></th>\n",
       "      <th></th>\n",
       "      <th></th>\n",
       "      <th></th>\n",
       "      <th></th>\n",
       "      <th></th>\n",
       "      <th></th>\n",
       "      <th></th>\n",
       "      <th></th>\n",
       "      <th></th>\n",
       "      <th></th>\n",
       "      <th></th>\n",
       "      <th></th>\n",
       "      <th></th>\n",
       "      <th></th>\n",
       "      <th></th>\n",
       "    </tr>\n",
       "  </thead>\n",
       "  <tbody>\n",
       "    <tr>\n",
       "      <th rowspan=\"5\" valign=\"top\">train</th>\n",
       "      <th rowspan=\"5\" valign=\"top\">1</th>\n",
       "      <th rowspan=\"5\" valign=\"top\">1</th>\n",
       "      <th>1</th>\n",
       "      <th>227</th>\n",
       "      <td>False</td>\n",
       "      <td>32</td>\n",
       "      <td>0.887012</td>\n",
       "      <td>0.969697</td>\n",
       "      <td>50.0</td>\n",
       "      <td>3.431665</td>\n",
       "      <td>9.0</td>\n",
       "      <td>-5.0</td>\n",
       "      <td>4.207070</td>\n",
       "      <td>4.339688</td>\n",
       "      <td>12.0</td>\n",
       "      <td>-5.0</td>\n",
       "      <td>4.304743</td>\n",
       "      <td>4.900646</td>\n",
       "      <td>-0.715237</td>\n",
       "      <td>0.476524</td>\n",
       "    </tr>\n",
       "    <tr>\n",
       "      <th>7</th>\n",
       "      <th>233</th>\n",
       "      <td>False</td>\n",
       "      <td>5</td>\n",
       "      <td>0.000000</td>\n",
       "      <td>1.000000</td>\n",
       "      <td>51.0</td>\n",
       "      <td>3.382095</td>\n",
       "      <td>14.0</td>\n",
       "      <td>0.0</td>\n",
       "      <td>4.085722</td>\n",
       "      <td>4.791327</td>\n",
       "      <td>17.0</td>\n",
       "      <td>-4.0</td>\n",
       "      <td>4.129508</td>\n",
       "      <td>5.411494</td>\n",
       "      <td>0.165889</td>\n",
       "      <td>0.777811</td>\n",
       "    </tr>\n",
       "    <tr>\n",
       "      <th>13</th>\n",
       "      <th>158</th>\n",
       "      <td>False</td>\n",
       "      <td>53</td>\n",
       "      <td>0.985190</td>\n",
       "      <td>0.670886</td>\n",
       "      <td>55.0</td>\n",
       "      <td>4.588253</td>\n",
       "      <td>16.0</td>\n",
       "      <td>-2.0</td>\n",
       "      <td>4.419131</td>\n",
       "      <td>4.791466</td>\n",
       "      <td>16.0</td>\n",
       "      <td>-2.0</td>\n",
       "      <td>4.349029</td>\n",
       "      <td>5.411810</td>\n",
       "      <td>-0.129127</td>\n",
       "      <td>0.799852</td>\n",
       "    </tr>\n",
       "    <tr>\n",
       "      <th>10</th>\n",
       "      <th>254</th>\n",
       "      <td>False</td>\n",
       "      <td>5</td>\n",
       "      <td>0.000000</td>\n",
       "      <td>1.000000</td>\n",
       "      <td>51.0</td>\n",
       "      <td>3.561912</td>\n",
       "      <td>16.0</td>\n",
       "      <td>0.0</td>\n",
       "      <td>3.106009</td>\n",
       "      <td>4.792973</td>\n",
       "      <td>16.0</td>\n",
       "      <td>0.0</td>\n",
       "      <td>2.924519</td>\n",
       "      <td>5.413541</td>\n",
       "      <td>0.321749</td>\n",
       "      <td>0.694747</td>\n",
       "    </tr>\n",
       "    <tr>\n",
       "      <th>22</th>\n",
       "      <th>168</th>\n",
       "      <td>False</td>\n",
       "      <td>8</td>\n",
       "      <td>0.577350</td>\n",
       "      <td>1.000000</td>\n",
       "      <td>55.0</td>\n",
       "      <td>3.580688</td>\n",
       "      <td>14.0</td>\n",
       "      <td>-1.0</td>\n",
       "      <td>4.182978</td>\n",
       "      <td>4.791868</td>\n",
       "      <td>16.0</td>\n",
       "      <td>-3.0</td>\n",
       "      <td>4.101444</td>\n",
       "      <td>5.412225</td>\n",
       "      <td>-0.130888</td>\n",
       "      <td>0.729648</td>\n",
       "    </tr>\n",
       "  </tbody>\n",
       "</table>\n",
       "</div>"
      ],
      "text/plain": [
       "                             is_satellite  area  eccentricity  solidity  \\\n",
       "part  sequence frame r  c                                                 \n",
       "train 1        1     1  227         False    32      0.887012  0.969697   \n",
       "                     7  233         False     5      0.000000  1.000000   \n",
       "                     13 158         False    53      0.985190  0.670886   \n",
       "                     10 254         False     5      0.000000  1.000000   \n",
       "                     22 168         False     8      0.577350  1.000000   \n",
       "\n",
       "                             pixel_value   3x3_std  3x3_min  3x3_max  \\\n",
       "part  sequence frame r  c                                              \n",
       "train 1        1     1  227         50.0  3.431665      9.0     -5.0   \n",
       "                     7  233         51.0  3.382095     14.0      0.0   \n",
       "                     13 158         55.0  4.588253     16.0     -2.0   \n",
       "                     10 254         51.0  3.561912     16.0      0.0   \n",
       "                     22 168         55.0  3.580688     14.0     -1.0   \n",
       "\n",
       "                              5x5_std  5x5_entropy  5x5_min  5x5_max  \\\n",
       "part  sequence frame r  c                                              \n",
       "train 1        1     1  227  4.207070     4.339688     12.0     -5.0   \n",
       "                     7  233  4.085722     4.791327     17.0     -4.0   \n",
       "                     13 158  4.419131     4.791466     16.0     -2.0   \n",
       "                     10 254  3.106009     4.792973     16.0      0.0   \n",
       "                     22 168  4.182978     4.791868     16.0     -3.0   \n",
       "\n",
       "                              7x7_std  7x7_entropy  7x7_kurtosis  7x7_skew  \n",
       "part  sequence frame r  c                                                   \n",
       "train 1        1     1  227  4.304743     4.900646     -0.715237  0.476524  \n",
       "                     7  233  4.129508     5.411494      0.165889  0.777811  \n",
       "                     13 158  4.349029     5.411810     -0.129127  0.799852  \n",
       "                     10 254  2.924519     5.413541      0.321749  0.694747  \n",
       "                     22 168  4.101444     5.412225     -0.130888  0.729648  "
      ]
     },
     "execution_count": 181,
     "metadata": {},
     "output_type": "execute_result"
    }
   ],
   "source": [
    "import tqdm\n",
    "\n",
    "samples = {}\n",
    "\n",
    "#for (part, sequence, frame), locations in tqdm.tqdm(interesting.groupby(['part', 'sequence', 'frame']), position=0):\n",
    "\n",
    "for (sequence, frame), locations in tqdm.tqdm(interesting.loc['train'].groupby(['sequence', 'frame']), position=0): \n",
    "    part = 'train'\n",
    "    \n",
    "    img = np.asarray(Image.open(f'data/spotGEO/{part}/{sequence}/{frame}.png')).astype(np.float32)\n",
    "    \n",
    "    for _, location in locations.iterrows():\n",
    "    \n",
    "        r = int(location['r'])\n",
    "        c = int(location['c'])\n",
    "\n",
    "        samples[part, sequence, frame, r, c] = {\n",
    "            'is_satellite': location['is_satellite'],\n",
    "            'area': location['area'],\n",
    "            'eccentricity': location['eccentricity'],\n",
    "            'solidity':  location['solidity'],\n",
    "            **extract_features(img, r=r, c=c)\n",
    "        }\n",
    "        \n",
    "samples = pd.DataFrame.from_dict(samples, orient='index')\n",
    "samples.index.names = ['part', 'sequence', 'frame', 'r', 'c']\n",
    "samples.head()"
   ]
  },
  {
   "cell_type": "markdown",
   "metadata": {},
   "source": [
    "## Learning phase"
   ]
  },
  {
   "cell_type": "markdown",
   "metadata": {},
   "source": [
    "Split into train and test."
   ]
  },
  {
   "cell_type": "code",
   "execution_count": 182,
   "metadata": {},
   "outputs": [],
   "source": [
    "from sklearn import utils\n",
    "\n",
    "X_train = samples.loc['train'].copy()\n",
    "y_train = X_train.pop('is_satellite').astype(bool)\n",
    "X_train, y_train = utils.shuffle(X_train, y_train, random_state=42)\n",
    "\n",
    "try:\n",
    "    X_test = samples.loc['test'].drop(columns='is_satellite')\n",
    "except KeyError:\n",
    "    X_test = None"
   ]
  },
  {
   "cell_type": "markdown",
   "metadata": {},
   "source": [
    "Do the LGBM CV dance."
   ]
  },
  {
   "cell_type": "code",
   "execution_count": 183,
   "metadata": {},
   "outputs": [
    {
     "name": "stdout",
     "output_type": "stream",
     "text": [
      "Training until validation scores don't improve for 20 rounds\n",
      "[10]\tfit's binary_logloss: 0.0190191\tval's binary_logloss: 0.0225442\n",
      "[20]\tfit's binary_logloss: 0.015414\tval's binary_logloss: 0.0198047\n",
      "[30]\tfit's binary_logloss: 0.0137132\tval's binary_logloss: 0.0188865\n",
      "[40]\tfit's binary_logloss: 0.0136892\tval's binary_logloss: 0.019299\n",
      "[50]\tfit's binary_logloss: 0.0127296\tval's binary_logloss: 0.0199022\n",
      "Early stopping, best iteration is:\n",
      "[34]\tfit's binary_logloss: 0.0131033\tval's binary_logloss: 0.0186464\n",
      "\n",
      "Training until validation scores don't improve for 20 rounds\n",
      "[10]\tfit's binary_logloss: 0.0194098\tval's binary_logloss: 0.0215464\n",
      "[20]\tfit's binary_logloss: 0.0155941\tval's binary_logloss: 0.0184621\n",
      "[30]\tfit's binary_logloss: 0.0141205\tval's binary_logloss: 0.0178726\n",
      "[40]\tfit's binary_logloss: 0.0128171\tval's binary_logloss: 0.0176393\n",
      "Early stopping, best iteration is:\n",
      "[26]\tfit's binary_logloss: 0.0143031\tval's binary_logloss: 0.0175811\n",
      "\n",
      "Training until validation scores don't improve for 20 rounds\n",
      "[10]\tfit's binary_logloss: 0.0191889\tval's binary_logloss: 0.0220355\n",
      "[20]\tfit's binary_logloss: 0.0155398\tval's binary_logloss: 0.0190039\n",
      "[30]\tfit's binary_logloss: 0.0141669\tval's binary_logloss: 0.0185668\n",
      "[40]\tfit's binary_logloss: 0.0138044\tval's binary_logloss: 0.01988\n",
      "[50]\tfit's binary_logloss: 0.0155555\tval's binary_logloss: 0.0238777\n",
      "Early stopping, best iteration is:\n",
      "[32]\tfit's binary_logloss: 0.0137963\tval's binary_logloss: 0.0183429\n",
      "\n",
      "Training until validation scores don't improve for 20 rounds\n",
      "[10]\tfit's binary_logloss: 0.0195012\tval's binary_logloss: 0.019523\n",
      "[20]\tfit's binary_logloss: 0.0157264\tval's binary_logloss: 0.0167031\n",
      "[30]\tfit's binary_logloss: 0.014164\tval's binary_logloss: 0.0161963\n",
      "[40]\tfit's binary_logloss: 0.0139425\tval's binary_logloss: 0.0170906\n",
      "Early stopping, best iteration is:\n",
      "[25]\tfit's binary_logloss: 0.0146338\tval's binary_logloss: 0.01608\n",
      "\n",
      "Training until validation scores don't improve for 20 rounds\n",
      "[10]\tfit's binary_logloss: 0.0195537\tval's binary_logloss: 0.0208459\n",
      "[20]\tfit's binary_logloss: 0.0157347\tval's binary_logloss: 0.0181177\n",
      "[30]\tfit's binary_logloss: 0.0144538\tval's binary_logloss: 0.0174186\n",
      "[40]\tfit's binary_logloss: 0.0166947\tval's binary_logloss: 0.0216967\n",
      "[50]\tfit's binary_logloss: 0.0164994\tval's binary_logloss: 0.0234605\n",
      "Early stopping, best iteration is:\n",
      "[32]\tfit's binary_logloss: 0.0141848\tval's binary_logloss: 0.0172819\n",
      "\n",
      "              precision    recall  f1-score   support\n",
      "\n",
      "       False     0.9967    0.9988    0.9978    657058\n",
      "        True     0.8789    0.7166    0.7895      7691\n",
      "\n",
      "    accuracy                         0.9956    664749\n",
      "   macro avg     0.9378    0.8577    0.8936    664749\n",
      "weighted avg     0.9953    0.9956    0.9954    664749\n",
      "\n"
     ]
    }
   ],
   "source": [
    "import lightgbm\n",
    "from sklearn import metrics\n",
    "from sklearn import model_selection\n",
    "from sklearn import utils\n",
    "\n",
    "model = lightgbm.LGBMClassifier(\n",
    "    num_leaves=2 ** 5,\n",
    "    metric='binary',\n",
    "    random_state=42,\n",
    "    n_estimators=10_000\n",
    ")\n",
    "\n",
    "cv = model_selection.GroupKFold(n_splits=5)\n",
    "groups = X_train.index.get_level_values('sequence')\n",
    "\n",
    "oof = pd.Series(dtype=bool, index=X_train.index)\n",
    "if X_test is not None:\n",
    "    y_test = pd.DataFrame(index=X_test.index)\n",
    "\n",
    "for i, (fit_idx, val_idx) in enumerate(cv.split(X_train, y_train, groups=groups)):\n",
    "    \n",
    "    X_fit = X_train.iloc[fit_idx]\n",
    "    y_fit = y_train.iloc[fit_idx]\n",
    "    X_val = X_train.iloc[val_idx]\n",
    "    y_val = y_train.iloc[val_idx]\n",
    "    \n",
    "    model.fit(\n",
    "        X_fit, y_fit,\n",
    "        eval_set=[(X_fit, y_fit), (X_val, y_val)],\n",
    "        eval_names=['fit', 'val'],\n",
    "        early_stopping_rounds=20,\n",
    "        verbose=10\n",
    "    )\n",
    "    oof.iloc[val_idx] = model.predict(X_val)\n",
    "    \n",
    "    if X_test is not None:\n",
    "        y_test[i] = model.predict_proba(X_test)[:, 1]\n",
    "    \n",
    "    print()\n",
    "\n",
    "print(metrics.classification_report(y_train, oof, digits=4))"
   ]
  },
  {
   "cell_type": "code",
   "execution_count": null,
   "metadata": {},
   "outputs": [],
   "source": [
    "precision    recall  f1-score   support\n",
    "\n",
    "       False     0.9967    0.9988    0.9978    657058\n",
    "        True     0.8789    0.7166    0.7895      7691\n",
    "\n",
    "    accuracy                         0.9956    664749\n",
    "   macro avg     0.9378    0.8577    0.8936    664749\n",
    "weighted avg     0.9953    0.9956    0.9954    664749"
   ]
  },
  {
   "cell_type": "markdown",
   "metadata": {},
   "source": [
    "Feature importances."
   ]
  },
  {
   "cell_type": "code",
   "execution_count": 197,
   "metadata": {},
   "outputs": [
    {
     "data": {
      "text/plain": [
       "7x7_kurtosis    164\n",
       "7x7_std         102\n",
       "7x7_skew         84\n",
       "area             84\n",
       "7x7_entropy      81\n",
       "3x3_std          81\n",
       "eccentricity     79\n",
       "pixel_value      71\n",
       "5x5_std          53\n",
       "3x3_min          49\n",
       "5x5_entropy      39\n",
       "5x5_min          38\n",
       "solidity         29\n",
       "3x3_max          20\n",
       "5x5_max          18\n",
       "dtype: int32"
      ]
     },
     "execution_count": 197,
     "metadata": {},
     "output_type": "execute_result"
    }
   ],
   "source": [
    "pd.Series(model.feature_importances_, index=X_train.columns).sort_values(ascending=False)"
   ]
  },
  {
   "cell_type": "markdown",
   "metadata": {},
   "source": [
    "## Out-of-fold predictions"
   ]
  },
  {
   "cell_type": "code",
   "execution_count": null,
   "metadata": {},
   "outputs": [],
   "source": [
    "%run toolbox.py"
   ]
  },
  {
   "cell_type": "code",
   "execution_count": 211,
   "metadata": {},
   "outputs": [
    {
     "data": {
      "text/plain": [
       "sequence  frame  r    c  \n",
       "785       2      82   179    False\n",
       "466       1      246  519    False\n",
       "692       1      334  211    False\n",
       "412       5      467  167    False\n",
       "676       4      60   105    False\n",
       "dtype: bool"
      ]
     },
     "execution_count": 211,
     "metadata": {},
     "output_type": "execute_result"
    }
   ],
   "source": [
    "oof.head()"
   ]
  },
  {
   "cell_type": "code",
   "execution_count": 222,
   "metadata": {},
   "outputs": [
    {
     "name": "stderr",
     "output_type": "stream",
     "text": [
      "100%|██████████| 6400/6400 [00:03<00:00, 1853.95it/s]\n"
     ]
    }
   ],
   "source": [
    "save_predictions(oof, 'oof.json')"
   ]
  },
  {
   "cell_type": "code",
   "execution_count": 213,
   "metadata": {},
   "outputs": [
    {
     "name": "stdout",
     "output_type": "stream",
     "text": [
      "libc++abi.dylib: terminating with uncaught exception of type std::runtime_error: Couldn't close file\n"
     ]
    }
   ],
   "source": [
    "!python validation.py oof.json data/spotGEO/train_anno.json"
   ]
  },
  {
   "cell_type": "markdown",
   "metadata": {},
   "source": [
    "## Test predictions"
   ]
  },
  {
   "cell_type": "code",
   "execution_count": 215,
   "metadata": {},
   "outputs": [
    {
     "data": {
      "text/html": [
       "<div>\n",
       "<style scoped>\n",
       "    .dataframe tbody tr th:only-of-type {\n",
       "        vertical-align: middle;\n",
       "    }\n",
       "\n",
       "    .dataframe tbody tr th {\n",
       "        vertical-align: top;\n",
       "    }\n",
       "\n",
       "    .dataframe thead th {\n",
       "        text-align: right;\n",
       "    }\n",
       "</style>\n",
       "<table border=\"1\" class=\"dataframe\">\n",
       "  <thead>\n",
       "    <tr style=\"text-align: right;\">\n",
       "      <th></th>\n",
       "      <th></th>\n",
       "      <th></th>\n",
       "      <th></th>\n",
       "      <th>0</th>\n",
       "      <th>1</th>\n",
       "      <th>2</th>\n",
       "      <th>3</th>\n",
       "      <th>4</th>\n",
       "    </tr>\n",
       "    <tr>\n",
       "      <th>sequence</th>\n",
       "      <th>frame</th>\n",
       "      <th>r</th>\n",
       "      <th>c</th>\n",
       "      <th></th>\n",
       "      <th></th>\n",
       "      <th></th>\n",
       "      <th></th>\n",
       "      <th></th>\n",
       "    </tr>\n",
       "  </thead>\n",
       "  <tbody>\n",
       "    <tr>\n",
       "      <th rowspan=\"5\" valign=\"top\">1</th>\n",
       "      <th rowspan=\"5\" valign=\"top\">1</th>\n",
       "      <th>7</th>\n",
       "      <th>339</th>\n",
       "      <td>0.000505</td>\n",
       "      <td>0.000618</td>\n",
       "      <td>0.000417</td>\n",
       "      <td>0.001360</td>\n",
       "      <td>0.000273</td>\n",
       "    </tr>\n",
       "    <tr>\n",
       "      <th>10</th>\n",
       "      <th>264</th>\n",
       "      <td>0.003549</td>\n",
       "      <td>0.002715</td>\n",
       "      <td>0.003404</td>\n",
       "      <td>0.002720</td>\n",
       "      <td>0.001340</td>\n",
       "    </tr>\n",
       "    <tr>\n",
       "      <th>18</th>\n",
       "      <th>40</th>\n",
       "      <td>0.003549</td>\n",
       "      <td>0.002715</td>\n",
       "      <td>0.004508</td>\n",
       "      <td>0.003282</td>\n",
       "      <td>0.001752</td>\n",
       "    </tr>\n",
       "    <tr>\n",
       "      <th>20</th>\n",
       "      <th>462</th>\n",
       "      <td>0.000723</td>\n",
       "      <td>0.001682</td>\n",
       "      <td>0.000763</td>\n",
       "      <td>0.001753</td>\n",
       "      <td>0.000796</td>\n",
       "    </tr>\n",
       "    <tr>\n",
       "      <th>26</th>\n",
       "      <th>65</th>\n",
       "      <td>0.002998</td>\n",
       "      <td>0.001684</td>\n",
       "      <td>0.004473</td>\n",
       "      <td>0.002475</td>\n",
       "      <td>0.001141</td>\n",
       "    </tr>\n",
       "  </tbody>\n",
       "</table>\n",
       "</div>"
      ],
      "text/plain": [
       "                              0         1         2         3         4\n",
       "sequence frame r  c                                                    \n",
       "1        1     7  339  0.000505  0.000618  0.000417  0.001360  0.000273\n",
       "               10 264  0.003549  0.002715  0.003404  0.002720  0.001340\n",
       "               18 40   0.003549  0.002715  0.004508  0.003282  0.001752\n",
       "               20 462  0.000723  0.001682  0.000763  0.001753  0.000796\n",
       "               26 65   0.002998  0.001684  0.004473  0.002475  0.001141"
      ]
     },
     "execution_count": 215,
     "metadata": {},
     "output_type": "execute_result"
    }
   ],
   "source": [
    "y_test.head()"
   ]
  },
  {
   "cell_type": "code",
   "execution_count": 216,
   "metadata": {},
   "outputs": [
    {
     "name": "stderr",
     "output_type": "stream",
     "text": [
      "100%|██████████| 25600/25600 [00:14<00:00, 1727.08it/s]\n"
     ]
    }
   ],
   "source": [
    "import zipfile\n",
    "\n",
    "save_predictions(y_test.mean(axis='columns') > .5, 'submission.json')\n",
    "\n",
    "with zipfile.ZipFile('submission.zip', mode='w') as f:\n",
    "    f.write('submission.json')"
   ]
  },
  {
   "cell_type": "markdown",
   "metadata": {},
   "source": [
    "Next is [PostProcessing.ipynb](PostProcessing.ipynb)."
   ]
  }
 ],
 "metadata": {
  "kernelspec": {
   "display_name": "Python 3",
   "language": "python",
   "name": "python3"
  },
  "language_info": {
   "codemirror_mode": {
    "name": "ipython",
    "version": 3
   },
   "file_extension": ".py",
   "mimetype": "text/x-python",
   "name": "python",
   "nbconvert_exporter": "python",
   "pygments_lexer": "ipython3",
   "version": "3.7.4"
  }
 },
 "nbformat": 4,
 "nbformat_minor": 4
}

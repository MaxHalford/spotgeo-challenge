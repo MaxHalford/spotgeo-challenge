{
 "cells": [
  {
   "cell_type": "markdown",
   "metadata": {},
   "source": [
    "# Solution"
   ]
  },
  {
   "cell_type": "markdown",
   "metadata": {},
   "source": [
    "## Data loading"
   ]
  },
  {
   "cell_type": "markdown",
   "metadata": {},
   "source": [
    "Load the annotations."
   ]
  },
  {
   "cell_type": "code",
   "execution_count": 2,
   "metadata": {},
   "outputs": [
    {
     "data": {
      "text/html": [
       "<div>\n",
       "<style scoped>\n",
       "    .dataframe tbody tr th:only-of-type {\n",
       "        vertical-align: middle;\n",
       "    }\n",
       "\n",
       "    .dataframe tbody tr th {\n",
       "        vertical-align: top;\n",
       "    }\n",
       "\n",
       "    .dataframe thead th {\n",
       "        text-align: right;\n",
       "    }\n",
       "</style>\n",
       "<table border=\"1\" class=\"dataframe\">\n",
       "  <thead>\n",
       "    <tr style=\"text-align: right;\">\n",
       "      <th></th>\n",
       "      <th></th>\n",
       "      <th></th>\n",
       "      <th>x</th>\n",
       "      <th>y</th>\n",
       "    </tr>\n",
       "    <tr>\n",
       "      <th>sequence</th>\n",
       "      <th>frame</th>\n",
       "      <th>satellite</th>\n",
       "      <th></th>\n",
       "      <th></th>\n",
       "    </tr>\n",
       "  </thead>\n",
       "  <tbody>\n",
       "    <tr>\n",
       "      <th rowspan=\"5\" valign=\"top\">1</th>\n",
       "      <th rowspan=\"3\" valign=\"top\">1</th>\n",
       "      <th>1</th>\n",
       "      <td>502.406250</td>\n",
       "      <td>237.114583</td>\n",
       "    </tr>\n",
       "    <tr>\n",
       "      <th>2</th>\n",
       "      <td>490.381836</td>\n",
       "      <td>221.811523</td>\n",
       "    </tr>\n",
       "    <tr>\n",
       "      <th>3</th>\n",
       "      <td>140.874332</td>\n",
       "      <td>129.093583</td>\n",
       "    </tr>\n",
       "    <tr>\n",
       "      <th rowspan=\"2\" valign=\"top\">2</th>\n",
       "      <th>1</th>\n",
       "      <td>530.406250</td>\n",
       "      <td>214.114583</td>\n",
       "    </tr>\n",
       "    <tr>\n",
       "      <th>2</th>\n",
       "      <td>518.381836</td>\n",
       "      <td>198.811523</td>\n",
       "    </tr>\n",
       "  </tbody>\n",
       "</table>\n",
       "</div>"
      ],
      "text/plain": [
       "                                   x           y\n",
       "sequence frame satellite                        \n",
       "1        1     1          502.406250  237.114583\n",
       "               2          490.381836  221.811523\n",
       "               3          140.874332  129.093583\n",
       "         2     1          530.406250  214.114583\n",
       "               2          518.381836  198.811523"
      ]
     },
     "execution_count": 2,
     "metadata": {},
     "output_type": "execute_result"
    }
   ],
   "source": [
    "import json\n",
    "import pandas as pd\n",
    "\n",
    "sats = []\n",
    "\n",
    "with open('data/spotGEO/train_anno.json') as f:\n",
    "    for ann in json.load(f):\n",
    "        for i, coords in enumerate(ann['object_coords']):\n",
    "            sats.append({\n",
    "                'sequence': ann['sequence_id'],\n",
    "                'frame': ann['frame'],\n",
    "                'satellite': i + 1,\n",
    "                'x': coords[0],\n",
    "                'y': coords[1],\n",
    "            })\n",
    "    \n",
    "sats = pd.DataFrame(sats)\n",
    "sats = sats.set_index(['sequence', 'frame', 'satellite'])\n",
    "sats.head()"
   ]
  },
  {
   "cell_type": "markdown",
   "metadata": {},
   "source": [
    "Now let's load the interesting pixels, those that have the potential of being satellites."
   ]
  },
  {
   "cell_type": "code",
   "execution_count": 30,
   "metadata": {},
   "outputs": [],
   "source": [
    "interesting = pd.read_pickle('data/interesting.pkl')\n",
    "interesting.head()"
   ]
  },
  {
   "cell_type": "markdown",
   "metadata": {},
   "source": [
    "## Feature extraction"
   ]
  },
  {
   "cell_type": "code",
   "execution_count": 24,
   "metadata": {},
   "outputs": [],
   "source": [
    "import numpy as np\n",
    "\n",
    "def region(img: np.ndarray, r: int, c: int, w: int):\n",
    "    \"\"\"Returns the square of length width with (x, y) being at the center.\"\"\"\n",
    "    return img[\n",
    "        max(r - w, 0) : min(r + w + 1, img.shape[0]),\n",
    "        max(c - w, 0) : min(c + w + 1, img.shape[1])\n",
    "    ]\n",
    "\n",
    "def extract_features(img, r, c):\n",
    "    r3x3 = region(img, r, c, 3)\n",
    "    r5x5 = region(img, r, c, 5)\n",
    "    val = img[r, c]\n",
    "    return {\n",
    "        'pixel_value': val,\n",
    "        '3x3_std': r3x3.std(),\n",
    "        '3x3_min': val - r3x3.min(),\n",
    "        '3x3_max': val - r3x3.max(),\n",
    "        '5x5_std': r5x5.std(),\n",
    "        '5x5_min': val - r5x5.min(),\n",
    "        '5x5_max': val - r5x5.max()\n",
    "    }"
   ]
  },
  {
   "cell_type": "markdown",
   "metadata": {},
   "source": [
    "Extract features for each interesting region."
   ]
  },
  {
   "cell_type": "code",
   "execution_count": 43,
   "metadata": {},
   "outputs": [
    {
     "name": "stderr",
     "output_type": "stream",
     "text": [
      "100%|██████████| 31996/31996 [10:14<00:00, 52.09it/s] \n"
     ]
    }
   ],
   "source": [
    "import tqdm\n",
    "\n",
    "samples = {}\n",
    "\n",
    "for (part, sequence, frame), locations in tqdm.tqdm(interesting.groupby(['part', 'sequence', 'frame']), position=0):\n",
    "    \n",
    "    img = np.asarray(Image.open(f'data/spotGEO/{part}/{sequence}/{frame}.png')).astype(np.float32)\n",
    "    \n",
    "    for _, location in locations.iterrows():\n",
    "    \n",
    "        r = int(location['r'])\n",
    "        c = int(location['c'])\n",
    "\n",
    "        samples[part, sequence, frame, r, c] = {\n",
    "            'is_satellite': location['is_satellite'],\n",
    "            **extract_features(img, r=r, c=c)\n",
    "        }\n",
    "        \n",
    "samples = pd.DataFrame.from_dict(samples, orient='index')\n",
    "samples.index.names = ['part', 'sequence', 'frame', 'r', 'c']\n",
    "samples.head()"
   ]
  },
  {
   "cell_type": "markdown",
   "metadata": {},
   "source": [
    "## Learning phase"
   ]
  },
  {
   "cell_type": "code",
   "execution_count": 50,
   "metadata": {},
   "outputs": [],
   "source": [
    "from sklearn import utils\n",
    "\n",
    "X_train = samples.loc['train'].copy()\n",
    "y_train = X_train.pop('is_satellite').astype(bool)\n",
    "X_train, y_train = utils.shuffle(X_train, y_train, random_state=42)\n",
    "\n",
    "X_test = samples.loc['test'].drop(columns='is_satellite')"
   ]
  },
  {
   "cell_type": "code",
   "execution_count": 51,
   "metadata": {},
   "outputs": [
    {
     "name": "stdout",
     "output_type": "stream",
     "text": [
      "[30]\tfit's binary_logloss: 0.0307464\tval's binary_logloss: 0.0334559\n",
      "[60]\tfit's binary_logloss: 0.0266054\tval's binary_logloss: 0.0307296\n",
      "[90]\tfit's binary_logloss: 0.0244123\tval's binary_logloss: 0.0295602\n",
      "\n",
      "[30]\tfit's binary_logloss: 0.0306169\tval's binary_logloss: 0.0369198\n",
      "[60]\tfit's binary_logloss: 0.0261807\tval's binary_logloss: 0.0339232\n",
      "[90]\tfit's binary_logloss: 0.0239135\tval's binary_logloss: 0.0327952\n",
      "\n",
      "[30]\tfit's binary_logloss: 0.0303809\tval's binary_logloss: 0.0345645\n",
      "[60]\tfit's binary_logloss: 0.0259095\tval's binary_logloss: 0.0325943\n",
      "[90]\tfit's binary_logloss: 0.0237044\tval's binary_logloss: 0.0319484\n",
      "\n",
      "[30]\tfit's binary_logloss: 0.0312132\tval's binary_logloss: 0.0327254\n",
      "[60]\tfit's binary_logloss: 0.0269534\tval's binary_logloss: 0.0295411\n",
      "[90]\tfit's binary_logloss: 0.0250685\tval's binary_logloss: 0.0294888\n",
      "\n",
      "[30]\tfit's binary_logloss: 0.0307667\tval's binary_logloss: 0.0341594\n",
      "[60]\tfit's binary_logloss: 0.0265037\tval's binary_logloss: 0.0313277\n",
      "[90]\tfit's binary_logloss: 0.0244725\tval's binary_logloss: 0.0306022\n",
      "\n",
      "              precision    recall  f1-score   support\n",
      "\n",
      "       False     0.9931    0.9976    0.9953    403910\n",
      "        True     0.8086    0.5951    0.6856      6957\n",
      "\n",
      "    accuracy                         0.9908    410867\n",
      "   macro avg     0.9008    0.7963    0.8405    410867\n",
      "weighted avg     0.9899    0.9908    0.9901    410867\n",
      "\n"
     ]
    }
   ],
   "source": [
    "import lightgbm\n",
    "from sklearn import metrics\n",
    "from sklearn import model_selection\n",
    "from sklearn import utils\n",
    "\n",
    "model = lightgbm.LGBMClassifier(\n",
    "    random_state=42\n",
    ")\n",
    "\n",
    "cv = model_selection.GroupKFold(n_splits=5)\n",
    "groups = X_train.index.get_level_values('sequence')\n",
    "oof = pd.Series(dtype=bool, index=X_train.index)\n",
    "y_test = pd.DataFrame(index=X_test.index)\n",
    "\n",
    "for i, (fit_idx, val_idx) in enumerate(cv.split(X_train, y_train, groups=groups)):\n",
    "    \n",
    "    X_fit = X_train.iloc[fit_idx]\n",
    "    y_fit = y_train.iloc[fit_idx]\n",
    "    X_val = X_train.iloc[val_idx]\n",
    "    y_val = y_train.iloc[val_idx]\n",
    "    \n",
    "    model.fit(\n",
    "        X_fit, y_fit,\n",
    "        eval_set=[(X_fit, y_fit), (X_val, y_val)],\n",
    "        eval_names=['fit', 'val'],\n",
    "        verbose=30\n",
    "    )\n",
    "    oof.iloc[val_idx] = model.predict(X_val)\n",
    "    \n",
    "    y_test[i] = model.predict_proba(X_test)[:, 1]\n",
    "    \n",
    "    print()\n",
    "\n",
    "print(metrics.classification_report(y_train, oof, digits=4))"
   ]
  },
  {
   "cell_type": "code",
   "execution_count": 52,
   "metadata": {},
   "outputs": [
    {
     "data": {
      "text/plain": [
       "False    0.987539\n",
       "True     0.012461\n",
       "dtype: float64"
      ]
     },
     "execution_count": 52,
     "metadata": {},
     "output_type": "execute_result"
    }
   ],
   "source": [
    "oof.value_counts(normalize=True)"
   ]
  },
  {
   "cell_type": "code",
   "execution_count": 71,
   "metadata": {},
   "outputs": [
    {
     "data": {
      "text/plain": [
       "False    0.986988\n",
       "True     0.013012\n",
       "dtype: float64"
      ]
     },
     "execution_count": 71,
     "metadata": {},
     "output_type": "execute_result"
    }
   ],
   "source": [
    "(y_test.mean(axis='columns') > .5).value_counts(normalize=True)"
   ]
  },
  {
   "cell_type": "markdown",
   "metadata": {},
   "source": [
    "## Make the submission"
   ]
  },
  {
   "cell_type": "markdown",
   "metadata": {},
   "source": [
    "Build it according to the specified format."
   ]
  },
  {
   "cell_type": "code",
   "execution_count": 66,
   "metadata": {},
   "outputs": [],
   "source": [
    "sub = []\n",
    "\n",
    "for (sequence, frame), g in (y_test.mean(axis='columns') > .5).groupby(['sequence', 'frame']):\n",
    "    \n",
    "    coords = []\n",
    "    \n",
    "    for (*_, r, c), label in g.iteritems():\n",
    "        if label:\n",
    "            coords.append([c - .5, r - .5])\n",
    "            \n",
    "    sub.append({\n",
    "        'sequence_id': int(sequence),\n",
    "        'frame': int(frame),\n",
    "        'num_objects': len(coords),\n",
    "        'object_coords': coords\n",
    "    })\n",
    "    \n",
    "assert len(sub) == 5120 * 5"
   ]
  },
  {
   "cell_type": "markdown",
   "metadata": {},
   "source": [
    "Save it and zip it."
   ]
  },
  {
   "cell_type": "code",
   "execution_count": 78,
   "metadata": {},
   "outputs": [],
   "source": [
    "import json\n",
    "import os\n",
    "import zipfile\n",
    "\n",
    "with open('submission.json', 'w') as f:\n",
    "    json.dump(sub, f)\n",
    "    \n",
    "with zipfile.ZipFile('submission.zip', mode='w') as f:\n",
    "    f.write('submission.json')\n",
    "    \n",
    "os.remove('submission.json')"
   ]
  }
 ],
 "metadata": {
  "kernelspec": {
   "display_name": "Python 3",
   "language": "python",
   "name": "python3"
  },
  "language_info": {
   "codemirror_mode": {
    "name": "ipython",
    "version": 3
   },
   "file_extension": ".py",
   "mimetype": "text/x-python",
   "name": "python",
   "nbconvert_exporter": "python",
   "pygments_lexer": "ipython3",
   "version": "3.7.4"
  }
 },
 "nbformat": 4,
 "nbformat_minor": 4
}
